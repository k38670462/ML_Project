{
 "cells": [
  {
   "cell_type": "code",
   "execution_count": 1,
   "metadata": {},
   "outputs": [],
   "source": [
    "import pandas as pd\n",
    "import requests\n",
    "import numpy as np\n",
    "import cn2an\n",
    "\n",
    "# output_file_name = \"data-1-year\" \n",
    "output_file_name = \"data-10-year\" \n",
    "urls = {\n",
    "    # 'data-1-year' :\"https://lvr.land.moi.gov.tw/SERVICE/QueryPrice/fe810aa29f305b7dce1e6271556bdbf1?q=VTJGc2RHVmtYMTg2Tmo2TDdZUktQcUwyT3p5TEdYRU9HdUJBSFFNQzRhaXJvNlVzYmFQd052dndYR1A0c1lOVE5ZVUxGU2tyRU5WWC9yVnB2U0R1bGg4YlFCdnlhSWNuL3p1SUdjakxUaFJ5Vk1mV2kzSm04QU03V0FISmdzYXVoYUUvaS9pcGY3Q3NMWXpTN0tubzhXc1g4VGY0QmRiN3A5dUthSHhlNlhwQ0VIdStLaFA5aUJvNWkxWjYxaU52cXZ2cjY1aDhheG9FUitxOFdGSzlxQjE0OEdPeTdCTmVHRCswZUhnOElxZ0Z0dGIxVExqSTNMYjBTRVN2VGdacXk0MS9sQnlzaG0vQWo1eXdWNkZrN0Q2b2ViTTZUWmVaZWh3aWNiQzhBUGZCSGpPcWZldG1CVkQxUzRJcXlOdDVQTGd3dlIvWk15TUl0Ym5tUlhmNFVWZ1NtRjY4ZDBxL3VmdnErQnpDaURSRFY5N1ZCSUxRTUFsR2dJWDQxbUFGcHoya2ZOS2ExZmNLa1lzS1FadVRDT21UNHBsTU5jOFkyTm9zRTlwb0d4OTc5T2tVcmZjeFg4M1h3anRRbUx2bmtBUFZuL3FXS1NVN01pZG04dDkvNkdTNWlYRS9NclZ6akVMT3ZZZXBFK1dpRGR6V1Z2ZFlOYmlGamc3QzcwM1ZON3BUWXRkUDAzZzJ3ZTlyUUJsbjgrU1cyK1YrL0tnZTl0YU1tVTBOQlF4QlAzVEVwcHRGcEZ3RnhqaWEwY3I2YjF1WWdaWnJGNjgzZnhUTkRxYlJNQlJsVklIV1FrK3NRWXJYZmRIYVVkbnZUTTBhYmF2SVJ2aVVqOTRFa2FZeXpzcVJLMjMwU0ZlUlI2THdjK2ttSkMxRnNFbG9UVjBTZExDelpMN1NRYmhSZVNWUUFxSTBwdXFZT0w2VXArK1ZMK3kxdEtGSU54eEM2V0NYaW5OTWl3dGVwT1ZPZ3dTemU1VE5xOU5Tc0ZjPQ==\",\n",
    "    # 'data-3-year' :\"https://lvr.land.moi.gov.tw/SERVICE/QueryPrice/0e47727c0c7c4fe0046db5d9acfb843a?q=VTJGc2RHVmtYMTllYUc3M213K3d1VzBwVnBoZXNYek5OSFMvekd2TU13NEc2UzRieWtmUTE2NHVXenRiQWVVMTk5cVhmYmhNMjJOZndoTStCNktHZWdBRzNxY3h4b0NYa0QxcTRmbExwc0pMM2trK0VQaExEOHV0Q2l1bmRObnFmcFo5L1hHWFZ0UUpreCszTWRmbUdsWDNvd245WEJ1TG0vdXFPY2hJdzVveDgvSW5FUlBVcmRmSWhrVXNIaGhseWx1dnd5T3ZOWXVHYnhjK2dCWVpYcm1QSklPOVZJMW9SUnQxZVdoSGR2RnFnVWNTN0pJREJPT21ZdUFEZFd4bzIrbWNNZHpySkNGNDZ1dWJ6V0tYVkxXcmNUZzZwTUFBQmpVUEhib2lhMG5MRXlOMzhldEI1MFdkTlNGczhHS2NoQmNlSENkOXFFRHBkKzk5YmNFSmtqVkRrbWVIWUVoU3VJRE40NFhVdm1QWU5mN005VXEvSVlTUUJmR0tDbXdTeGkxbi9KUDk3Um5ETWhBVTNxZitJeUc3YUdGS1grc0Zuc2U3Sy9UNFBqa2hZV0FBM1JJSy9CbExRdXdLS1hHNnVoLzZZV05GTk9jU3NRNjJoN015OW5nOVFzMHIwUFQxVTg1UHFRK1JqVHYyN1Jmd2lDQjJsb2IwRURxNWwvdk1lcXlmMk0vemtWZk9BbnJ6QTNBYjdHR29IMTZPOEI0NTZOTnVqYzBqbGlyTk1lYlByZHEvVk83VGJ1ZGRzMHEvU1lrNFliWWtKbVRycjhtUzZOcDBFcUZiSDJWU1A1c0g4cXp4aG5jdW9YaW5SZmhHWTZvTFlSbWlNbDNQMlVYTUVocjRGV3l0aEc5VDdZZElrMTJPM3lDWDhpUnQyd0hSYTVaS3FISVZBTDJSalRQWDRvT0JlMHZ1VU84THhTSXF3NWtLQW5DSDJRNFdDRmVTMGhTSjI1MGF4VVBDT0tPUEpuUWJNSEFUclE0PQ==\",\n",
    "    # 'data-5-year' :\"https://lvr.land.moi.gov.tw/SERVICE/QueryPrice/9875e14de87b7b523ce07d3c9153d924?q=VTJGc2RHVmtYMTlXekYreWFFRTk2WFRIS0Z4aER2YVZyM0ZMWS91N3R5dXlYN0EyQVNqbldoK3BtaktTL3Q3MFV2VTRMUlgrQ1Q2b1lGbjlYblRTK2EzZENUM1hjVTNTQytUUnF6dHZkcHdFWGJRSHpJL0FvNnROd05QS3pYN242UGp3Vjh5TVlnV2Q0aXZkcUh6cmw4eHNGSlNsU0NjcTBiNUZIWE16RHZSMmVNd2NoSm41ZVR4Y2RmTk40Z0kxV3RqenBTZEdCdXNjc2taQXdoQ3pMSDdGTWV2T2JidVVaT1M3WTFwWXQ3d2VLZFZ1NmpYeHU4bGN3alhIU0hqWkVSWi8rcTZNUjNQdEs4ckw2QmRZUWMrQ0kySTBFQkx0UTgwc05UTUlwUThIZ3N2MGttOUppanA0dkpzZzhpbUdIcmt2S2NhTHYyTXpraGtvcnpZM05tMFo1TFZRYmp2ZlV0WWYvUWdLUUJHUXc2K1Y5MnlTNDJ5VHlYaW9sWGY3MUUxRmNEYTJmMFdOL0ZhTHpBb29CVlhRNE0rT2ZBRTg4TGN2bkgyM0duc2xzK0Zrb04zS0lZajg4emFsT1lrdDVRUlZPUVJHMW41T0dkWGFOb0NmNVR5TWtiVzRUbFpYMzFVUGJpRkpKTkNET0o4NVhCemdmaDFNWWZGN01nK3dlOUZHMU1BbFJWcXBTc1A2V3dyWU11cURqYkZ1VFdKaVhNVy9tankxY3lLaC9tZ3FTSkxteXorZnU5QU1KSXdLL1czV0ZvOXQxczN6QzVjL090WUtqWklDRWRZdHJvQ2VsbVFzS0Jhb1VRVUtUa1pLNE9obzlLOGRoREgzbTMrallJVFZGbkVGcitRT2h1dnllaEpYQXB3OVJoNHEwVndQYndVU1RFdmg5aW11eFNpWTliVUJZNHFhTWJaV2NoaXdpZzVFZTlsQzA2Z1RZZHBHTGZFTDVuckN0V2N2dkg0ZFN4ZklkZUJoMlRjPQ==\",\n",
    "    'data-10-year' :\"https://lvr.land.moi.gov.tw/SERVICE/QueryPrice/dc49f7b019067380c74fb4732b037dea?q=VTJGc2RHVmtYMStzQTFVTENVdzNnZ3VpMlBPTVp6OTBYUFNiSStKZ2VLbWhNSngvd3NPUWZlTHQ1VytQMnlZMGo2ZzgxVVR1bDFjRjdEcXc0TnNXdTM3c2F1d2lJN2hhUXJzQVYzbzNydnZWdnA5SmZieWpFUllBOVVuVXFBNHNHZURic3NmMnlaVmp1UWszVjhUY1E1VVorbEhCdjVHUmJtZG9qdFZ1NThSL1NySXNib3Y5YlVEN2Q3N3dyTTRGOTNKalZsQm5hcXdmV2xHYWM0eVo1cVgrdWxRSXdQZHJwOWpDbllYbUZGN3NqS0xmZTIvZ0J3c1BFajdHTWQzdkNzWkFFQ2JGSXJDNWRJdW1UVDZLYkd0TXJvK0JEWFlwcHlwWEd5ZWZEajNoY0IrMjFWd3ZzRG9qU1dNS0JENFlXOHhHN3dmbmxBYkdmWUliZ0NNbFFBWFJZcWtXSDBsZEZnL2NzeENwWStlaW9hMnJ3UDFGU0dQcWljeVdGUGI3L1hGVmdVNkpBZVJ0QVdqVG5paVRDQ3cyekx3V1ordGZVR2xRbXQ0VVpaZXoyTGJQZDBlVDI4UzhjSm9oV2N4YWxrM0ZnaGFyMFkyMzlQeDJqVzZxTzdyelAyTG1oTklIVVBZanJMcE10ZGZRNTd4cDZORDJVWldrdzNtdW1yRERYMTM3S2tpU1VTWVVjKzR3akRGSTFJMC84YkI1NFpwWGxOTWZJRllhOTJaUlFGK3RJQ1hyeTYrZU9ldVVDWE0wVTJVWUZKRHk1N20zU2xKR3hRVVp3MG1qSFk1RG9pQzY5VDc3N3dNOC9PRlZmMVFZcm04eGQ1NjZuZmYvWnpzZnRkOXQ5Qkhjbno2djV2TW10UjRucld4YW5wRHRaVlB1SmdCWUNUS0tmZkxMYk44WXZYVnZvNFkxTTh3bXk4b3hscEVRY3JtU0lOYjFEYnZ2WFhFVHNWR3FVYjRiOE03bmZzYzZNZldqRUxVPQ==\"\n",
    "}"
   ]
  },
  {
   "cell_type": "markdown",
   "metadata": {},
   "source": [
    "Extract certain features"
   ]
  },
  {
   "cell_type": "code",
   "execution_count": 2,
   "metadata": {},
   "outputs": [
    {
     "name": "stdout",
     "output_type": "stream",
     "text": [
      "Start\n",
      "Finish\n"
     ]
    }
   ],
   "source": [
    "columns = [\"lon\", \"lat\", \"g\", \"s\", \"b\", \"pu\", \"f\", \"v\", \"el\", \"m\", \"l\", \"e\", \"tp\"]\n",
    "new_columns = {\n",
    "    \"lon\": \"longitude\",\n",
    "    \"lat\": \"latitude\",\n",
    "    \"g\": \"house_age\",\n",
    "    \"s\": \"area\",\n",
    "    \"b\": \"property_type\",\n",
    "    \"pu\": \"purpose\",\n",
    "    \"f\": \"floor\",\n",
    "    \"v\": \"layout\",\n",
    "    \"el\": \"elevator\",\n",
    "    \"m\": \"janitor\",\n",
    "    \"l\": \"parking_space\",\n",
    "    \"e\": \"closing_year\",\n",
    "    \"tp\": \"price\",\n",
    "}\n",
    "\n",
    "print(\"Start\")\n",
    "\n",
    "res = requests.get(urls[output_file_name])\n",
    "data = res.json()\n",
    "\n",
    "df = pd.DataFrame(data)\n",
    "# df.to_csv(f'{output_file_name}-raw.csv', index=False, encoding=\"utf_8_sig\")\n",
    "\n",
    "print(\"Finish\")"
   ]
  },
  {
   "cell_type": "code",
   "execution_count": 3,
   "metadata": {},
   "outputs": [
    {
     "data": {
      "text/html": [
       "<div>\n",
       "<style scoped>\n",
       "    .dataframe tbody tr th:only-of-type {\n",
       "        vertical-align: middle;\n",
       "    }\n",
       "\n",
       "    .dataframe tbody tr th {\n",
       "        vertical-align: top;\n",
       "    }\n",
       "\n",
       "    .dataframe thead th {\n",
       "        text-align: right;\n",
       "    }\n",
       "</style>\n",
       "<table border=\"1\" class=\"dataframe\">\n",
       "  <thead>\n",
       "    <tr style=\"text-align: right;\">\n",
       "      <th></th>\n",
       "      <th>longitude</th>\n",
       "      <th>latitude</th>\n",
       "      <th>house_age</th>\n",
       "      <th>area</th>\n",
       "      <th>property_type</th>\n",
       "      <th>purpose</th>\n",
       "      <th>floor</th>\n",
       "      <th>layout</th>\n",
       "      <th>elevator</th>\n",
       "      <th>janitor</th>\n",
       "      <th>parking_space</th>\n",
       "      <th>closing_year</th>\n",
       "      <th>price</th>\n",
       "    </tr>\n",
       "  </thead>\n",
       "  <tbody>\n",
       "    <tr>\n",
       "      <th>0</th>\n",
       "      <td>120.977307</td>\n",
       "      <td>24.820037</td>\n",
       "      <td>32</td>\n",
       "      <td>26.41</td>\n",
       "      <td>華廈(10層含以下有電梯)</td>\n",
       "      <td>住家用</td>\n",
       "      <td>三層/五層</td>\n",
       "      <td>3房2廳2衛</td>\n",
       "      <td>有</td>\n",
       "      <td>無</td>\n",
       "      <td>1</td>\n",
       "      <td>112/10/03</td>\n",
       "      <td>9,250,000</td>\n",
       "    </tr>\n",
       "    <tr>\n",
       "      <th>1</th>\n",
       "      <td>121.012857</td>\n",
       "      <td>24.790343</td>\n",
       "      <td>NaN</td>\n",
       "      <td>32.96</td>\n",
       "      <td>住宅大樓(11層含以上有電梯)</td>\n",
       "      <td>住家用</td>\n",
       "      <td>二十二層/二十九層</td>\n",
       "      <td>2房2廳1衛</td>\n",
       "      <td>有</td>\n",
       "      <td>有</td>\n",
       "      <td>1</td>\n",
       "      <td>112/10/01</td>\n",
       "      <td>8,000,000</td>\n",
       "    </tr>\n",
       "    <tr>\n",
       "      <th>2</th>\n",
       "      <td>120.968306</td>\n",
       "      <td>24.776166</td>\n",
       "      <td>19</td>\n",
       "      <td>15.26</td>\n",
       "      <td>華廈(10層含以下有電梯)</td>\n",
       "      <td>住家用</td>\n",
       "      <td>地下三層/四層</td>\n",
       "      <td>1房1廳1衛</td>\n",
       "      <td>有</td>\n",
       "      <td>有</td>\n",
       "      <td>0</td>\n",
       "      <td>112/10/02</td>\n",
       "      <td>4,150,000</td>\n",
       "    </tr>\n",
       "    <tr>\n",
       "      <th>3</th>\n",
       "      <td>120.931959</td>\n",
       "      <td>24.838812</td>\n",
       "      <td>28</td>\n",
       "      <td>60.74</td>\n",
       "      <td>透天厝</td>\n",
       "      <td>住家用</td>\n",
       "      <td>全/四層</td>\n",
       "      <td>5房2廳4衛</td>\n",
       "      <td>無</td>\n",
       "      <td>無</td>\n",
       "      <td>0</td>\n",
       "      <td>112/10/01</td>\n",
       "      <td>13,550,000</td>\n",
       "    </tr>\n",
       "    <tr>\n",
       "      <th>4</th>\n",
       "      <td>121.025405</td>\n",
       "      <td>24.778577</td>\n",
       "      <td>25</td>\n",
       "      <td>52.62</td>\n",
       "      <td>住宅大樓(11層含以上有電梯)</td>\n",
       "      <td>住家用</td>\n",
       "      <td>七層/十四層</td>\n",
       "      <td>3房2廳2衛</td>\n",
       "      <td>有</td>\n",
       "      <td>有</td>\n",
       "      <td>1</td>\n",
       "      <td>112/10/03</td>\n",
       "      <td>16,600,000</td>\n",
       "    </tr>\n",
       "  </tbody>\n",
       "</table>\n",
       "</div>"
      ],
      "text/plain": [
       "    longitude   latitude house_age   area    property_type purpose      floor  \\\n",
       "0  120.977307  24.820037        32  26.41    華廈(10層含以下有電梯)     住家用      三層/五層   \n",
       "1  121.012857  24.790343       NaN  32.96  住宅大樓(11層含以上有電梯)     住家用  二十二層/二十九層   \n",
       "2  120.968306  24.776166        19  15.26    華廈(10層含以下有電梯)     住家用    地下三層/四層   \n",
       "3  120.931959  24.838812        28  60.74              透天厝     住家用       全/四層   \n",
       "4  121.025405  24.778577        25  52.62  住宅大樓(11層含以上有電梯)     住家用     七層/十四層   \n",
       "\n",
       "   layout elevator janitor parking_space closing_year       price  \n",
       "0  3房2廳2衛        有       無             1    112/10/03   9,250,000  \n",
       "1  2房2廳1衛        有       有             1    112/10/01   8,000,000  \n",
       "2  1房1廳1衛        有       有             0    112/10/02   4,150,000  \n",
       "3  5房2廳4衛        無       無             0    112/10/01  13,550,000  \n",
       "4  3房2廳2衛        有       有             1    112/10/03  16,600,000  "
      ]
     },
     "execution_count": 3,
     "metadata": {},
     "output_type": "execute_result"
    }
   ],
   "source": [
    "df = df[columns]\n",
    "df = df.replace('', np.nan)\n",
    "df = df.rename(columns=new_columns)\n",
    "df[:5]"
   ]
  },
  {
   "cell_type": "markdown",
   "metadata": {},
   "source": [
    "Handle the missing values"
   ]
  },
  {
   "cell_type": "code",
   "execution_count": 4,
   "metadata": {},
   "outputs": [
    {
     "name": "stdout",
     "output_type": "stream",
     "text": [
      "longitude: 0\n",
      "latitude: 0\n",
      "house_age: 20980\n",
      "area: 0\n",
      "property_type: 1\n",
      "purpose: 53\n",
      "floor: 4\n",
      "layout: 2267\n",
      "elevator: 39981\n",
      "janitor: 0\n",
      "parking_space: 0\n",
      "closing_year: 0\n",
      "price: 0\n"
     ]
    }
   ],
   "source": [
    "# print out the column which contains missing values \n",
    "missing_columns = []\n",
    "for column_name in df.columns:\n",
    "    missing_count = df[column_name].isna().sum()\n",
    "    print(f'{column_name}: {missing_count}')\n",
    "    if missing_count > 0:\n",
    "        missing_columns.append(column_name)"
   ]
  },
  {
   "cell_type": "code",
   "execution_count": 5,
   "metadata": {},
   "outputs": [
    {
     "name": "stdout",
     "output_type": "stream",
     "text": [
      "house_age: 0\n",
      "property_type: 0\n",
      "purpose: 0\n",
      "floor: 0\n",
      "layout: 0\n",
      "elevator: 0\n"
     ]
    }
   ],
   "source": [
    "for column_name in missing_columns:\n",
    "    mode_value = df[column_name].mode()[0]\n",
    "    df[column_name].fillna(mode_value, inplace=True)\n",
    "\n",
    "    missing_count = df[column_name].isna().sum()\n",
    "    print(f'{column_name}: {missing_count}')"
   ]
  },
  {
   "cell_type": "markdown",
   "metadata": {},
   "source": [
    "Remove ',' in `area`"
   ]
  },
  {
   "cell_type": "code",
   "execution_count": 6,
   "metadata": {},
   "outputs": [],
   "source": [
    "df['area'] = df['area'].str.replace(',', '').astype(float)"
   ]
  },
  {
   "cell_type": "markdown",
   "metadata": {},
   "source": [
    "Layout processing"
   ]
  },
  {
   "cell_type": "code",
   "execution_count": 7,
   "metadata": {},
   "outputs": [],
   "source": [
    "df[['bedroom', 'living_room', 'bathroom']] = df['layout'].str.extract('(\\d+)房(\\d+)廳(\\d+)衛')\n",
    "df[['bedroom', 'living_room', 'bathroom']] = df[['bedroom', 'living_room', 'bathroom']].fillna(0).astype(int)\n",
    "df = df.drop(columns=['layout'])"
   ]
  },
  {
   "cell_type": "code",
   "execution_count": 8,
   "metadata": {},
   "outputs": [
    {
     "data": {
      "text/html": [
       "<div>\n",
       "<style scoped>\n",
       "    .dataframe tbody tr th:only-of-type {\n",
       "        vertical-align: middle;\n",
       "    }\n",
       "\n",
       "    .dataframe tbody tr th {\n",
       "        vertical-align: top;\n",
       "    }\n",
       "\n",
       "    .dataframe thead th {\n",
       "        text-align: right;\n",
       "    }\n",
       "</style>\n",
       "<table border=\"1\" class=\"dataframe\">\n",
       "  <thead>\n",
       "    <tr style=\"text-align: right;\">\n",
       "      <th></th>\n",
       "      <th>bedroom</th>\n",
       "      <th>living_room</th>\n",
       "      <th>bathroom</th>\n",
       "    </tr>\n",
       "  </thead>\n",
       "  <tbody>\n",
       "    <tr>\n",
       "      <th>0</th>\n",
       "      <td>3</td>\n",
       "      <td>2</td>\n",
       "      <td>2</td>\n",
       "    </tr>\n",
       "    <tr>\n",
       "      <th>1</th>\n",
       "      <td>2</td>\n",
       "      <td>2</td>\n",
       "      <td>1</td>\n",
       "    </tr>\n",
       "    <tr>\n",
       "      <th>2</th>\n",
       "      <td>1</td>\n",
       "      <td>1</td>\n",
       "      <td>1</td>\n",
       "    </tr>\n",
       "    <tr>\n",
       "      <th>3</th>\n",
       "      <td>5</td>\n",
       "      <td>2</td>\n",
       "      <td>4</td>\n",
       "    </tr>\n",
       "    <tr>\n",
       "      <th>4</th>\n",
       "      <td>3</td>\n",
       "      <td>2</td>\n",
       "      <td>2</td>\n",
       "    </tr>\n",
       "    <tr>\n",
       "      <th>...</th>\n",
       "      <td>...</td>\n",
       "      <td>...</td>\n",
       "      <td>...</td>\n",
       "    </tr>\n",
       "    <tr>\n",
       "      <th>65240</th>\n",
       "      <td>4</td>\n",
       "      <td>2</td>\n",
       "      <td>3</td>\n",
       "    </tr>\n",
       "    <tr>\n",
       "      <th>65241</th>\n",
       "      <td>4</td>\n",
       "      <td>2</td>\n",
       "      <td>3</td>\n",
       "    </tr>\n",
       "    <tr>\n",
       "      <th>65242</th>\n",
       "      <td>4</td>\n",
       "      <td>2</td>\n",
       "      <td>3</td>\n",
       "    </tr>\n",
       "    <tr>\n",
       "      <th>65243</th>\n",
       "      <td>4</td>\n",
       "      <td>2</td>\n",
       "      <td>4</td>\n",
       "    </tr>\n",
       "    <tr>\n",
       "      <th>65244</th>\n",
       "      <td>3</td>\n",
       "      <td>2</td>\n",
       "      <td>2</td>\n",
       "    </tr>\n",
       "  </tbody>\n",
       "</table>\n",
       "<p>65245 rows × 3 columns</p>\n",
       "</div>"
      ],
      "text/plain": [
       "       bedroom  living_room  bathroom\n",
       "0            3            2         2\n",
       "1            2            2         1\n",
       "2            1            1         1\n",
       "3            5            2         4\n",
       "4            3            2         2\n",
       "...        ...          ...       ...\n",
       "65240        4            2         3\n",
       "65241        4            2         3\n",
       "65242        4            2         3\n",
       "65243        4            2         4\n",
       "65244        3            2         2\n",
       "\n",
       "[65245 rows x 3 columns]"
      ]
     },
     "execution_count": 8,
     "metadata": {},
     "output_type": "execute_result"
    }
   ],
   "source": [
    "df[['bedroom', 'living_room', 'bathroom']]"
   ]
  },
  {
   "cell_type": "markdown",
   "metadata": {},
   "source": [
    "`Elevator`, `Janitor` and `purpose` processing (Label Encoding)"
   ]
  },
  {
   "cell_type": "code",
   "execution_count": 9,
   "metadata": {},
   "outputs": [],
   "source": [
    "binary_mapping = {\"有\": 1, \"無\": 0}\n",
    "df[\"elevator\"] = df[\"elevator\"].map(binary_mapping)\n",
    "df[\"janitor\"] = df[\"janitor\"].map(binary_mapping)\n",
    "\n",
    "df[\"residential\"] = df[\"purpose\"].map(lambda val : 1 if val == '住家用' else 0)\n",
    "df = df.drop(columns=['purpose'])"
   ]
  },
  {
   "cell_type": "code",
   "execution_count": 10,
   "metadata": {},
   "outputs": [
    {
     "data": {
      "text/html": [
       "<div>\n",
       "<style scoped>\n",
       "    .dataframe tbody tr th:only-of-type {\n",
       "        vertical-align: middle;\n",
       "    }\n",
       "\n",
       "    .dataframe tbody tr th {\n",
       "        vertical-align: top;\n",
       "    }\n",
       "\n",
       "    .dataframe thead th {\n",
       "        text-align: right;\n",
       "    }\n",
       "</style>\n",
       "<table border=\"1\" class=\"dataframe\">\n",
       "  <thead>\n",
       "    <tr style=\"text-align: right;\">\n",
       "      <th></th>\n",
       "      <th>elevator</th>\n",
       "      <th>janitor</th>\n",
       "      <th>residential</th>\n",
       "    </tr>\n",
       "  </thead>\n",
       "  <tbody>\n",
       "    <tr>\n",
       "      <th>0</th>\n",
       "      <td>1</td>\n",
       "      <td>0</td>\n",
       "      <td>1</td>\n",
       "    </tr>\n",
       "    <tr>\n",
       "      <th>1</th>\n",
       "      <td>1</td>\n",
       "      <td>1</td>\n",
       "      <td>1</td>\n",
       "    </tr>\n",
       "    <tr>\n",
       "      <th>2</th>\n",
       "      <td>1</td>\n",
       "      <td>1</td>\n",
       "      <td>1</td>\n",
       "    </tr>\n",
       "    <tr>\n",
       "      <th>3</th>\n",
       "      <td>0</td>\n",
       "      <td>0</td>\n",
       "      <td>1</td>\n",
       "    </tr>\n",
       "    <tr>\n",
       "      <th>4</th>\n",
       "      <td>1</td>\n",
       "      <td>1</td>\n",
       "      <td>1</td>\n",
       "    </tr>\n",
       "    <tr>\n",
       "      <th>...</th>\n",
       "      <td>...</td>\n",
       "      <td>...</td>\n",
       "      <td>...</td>\n",
       "    </tr>\n",
       "    <tr>\n",
       "      <th>65240</th>\n",
       "      <td>1</td>\n",
       "      <td>1</td>\n",
       "      <td>1</td>\n",
       "    </tr>\n",
       "    <tr>\n",
       "      <th>65241</th>\n",
       "      <td>1</td>\n",
       "      <td>1</td>\n",
       "      <td>1</td>\n",
       "    </tr>\n",
       "    <tr>\n",
       "      <th>65242</th>\n",
       "      <td>1</td>\n",
       "      <td>1</td>\n",
       "      <td>1</td>\n",
       "    </tr>\n",
       "    <tr>\n",
       "      <th>65243</th>\n",
       "      <td>1</td>\n",
       "      <td>1</td>\n",
       "      <td>1</td>\n",
       "    </tr>\n",
       "    <tr>\n",
       "      <th>65244</th>\n",
       "      <td>1</td>\n",
       "      <td>1</td>\n",
       "      <td>1</td>\n",
       "    </tr>\n",
       "  </tbody>\n",
       "</table>\n",
       "<p>65245 rows × 3 columns</p>\n",
       "</div>"
      ],
      "text/plain": [
       "       elevator  janitor  residential\n",
       "0             1        0            1\n",
       "1             1        1            1\n",
       "2             1        1            1\n",
       "3             0        0            1\n",
       "4             1        1            1\n",
       "...         ...      ...          ...\n",
       "65240         1        1            1\n",
       "65241         1        1            1\n",
       "65242         1        1            1\n",
       "65243         1        1            1\n",
       "65244         1        1            1\n",
       "\n",
       "[65245 rows x 3 columns]"
      ]
     },
     "execution_count": 10,
     "metadata": {},
     "output_type": "execute_result"
    }
   ],
   "source": [
    "df[['elevator', 'janitor', 'residential']]"
   ]
  },
  {
   "cell_type": "markdown",
   "metadata": {},
   "source": [
    "`Property Type` processing (One Hot Encoding)"
   ]
  },
  {
   "cell_type": "code",
   "execution_count": 11,
   "metadata": {},
   "outputs": [],
   "source": [
    "property_type_mapping = {\n",
    "    '住宅大樓(11層含以上有電梯)': 'residential_building',\n",
    "    '公寓(5樓含以下無電梯)': 'apartment',\n",
    "    '華廈(10層含以下有電梯)': 'mansion',\n",
    "    '透天厝': 'detached_house'\n",
    "}\n",
    "\n",
    "df['property_type'] = df['property_type'].map(property_type_mapping)\n",
    "df = pd.get_dummies(df, columns=['property_type'])"
   ]
  },
  {
   "cell_type": "code",
   "execution_count": 12,
   "metadata": {},
   "outputs": [
    {
     "data": {
      "text/html": [
       "<div>\n",
       "<style scoped>\n",
       "    .dataframe tbody tr th:only-of-type {\n",
       "        vertical-align: middle;\n",
       "    }\n",
       "\n",
       "    .dataframe tbody tr th {\n",
       "        vertical-align: top;\n",
       "    }\n",
       "\n",
       "    .dataframe thead th {\n",
       "        text-align: right;\n",
       "    }\n",
       "</style>\n",
       "<table border=\"1\" class=\"dataframe\">\n",
       "  <thead>\n",
       "    <tr style=\"text-align: right;\">\n",
       "      <th></th>\n",
       "      <th>property_type_residential_building</th>\n",
       "      <th>property_type_apartment</th>\n",
       "      <th>property_type_mansion</th>\n",
       "      <th>property_type_detached_house</th>\n",
       "    </tr>\n",
       "  </thead>\n",
       "  <tbody>\n",
       "    <tr>\n",
       "      <th>0</th>\n",
       "      <td>0</td>\n",
       "      <td>0</td>\n",
       "      <td>1</td>\n",
       "      <td>0</td>\n",
       "    </tr>\n",
       "    <tr>\n",
       "      <th>1</th>\n",
       "      <td>1</td>\n",
       "      <td>0</td>\n",
       "      <td>0</td>\n",
       "      <td>0</td>\n",
       "    </tr>\n",
       "    <tr>\n",
       "      <th>2</th>\n",
       "      <td>0</td>\n",
       "      <td>0</td>\n",
       "      <td>1</td>\n",
       "      <td>0</td>\n",
       "    </tr>\n",
       "    <tr>\n",
       "      <th>3</th>\n",
       "      <td>0</td>\n",
       "      <td>0</td>\n",
       "      <td>0</td>\n",
       "      <td>1</td>\n",
       "    </tr>\n",
       "    <tr>\n",
       "      <th>4</th>\n",
       "      <td>1</td>\n",
       "      <td>0</td>\n",
       "      <td>0</td>\n",
       "      <td>0</td>\n",
       "    </tr>\n",
       "    <tr>\n",
       "      <th>...</th>\n",
       "      <td>...</td>\n",
       "      <td>...</td>\n",
       "      <td>...</td>\n",
       "      <td>...</td>\n",
       "    </tr>\n",
       "    <tr>\n",
       "      <th>65240</th>\n",
       "      <td>1</td>\n",
       "      <td>0</td>\n",
       "      <td>0</td>\n",
       "      <td>0</td>\n",
       "    </tr>\n",
       "    <tr>\n",
       "      <th>65241</th>\n",
       "      <td>1</td>\n",
       "      <td>0</td>\n",
       "      <td>0</td>\n",
       "      <td>0</td>\n",
       "    </tr>\n",
       "    <tr>\n",
       "      <th>65242</th>\n",
       "      <td>1</td>\n",
       "      <td>0</td>\n",
       "      <td>0</td>\n",
       "      <td>0</td>\n",
       "    </tr>\n",
       "    <tr>\n",
       "      <th>65243</th>\n",
       "      <td>1</td>\n",
       "      <td>0</td>\n",
       "      <td>0</td>\n",
       "      <td>0</td>\n",
       "    </tr>\n",
       "    <tr>\n",
       "      <th>65244</th>\n",
       "      <td>1</td>\n",
       "      <td>0</td>\n",
       "      <td>0</td>\n",
       "      <td>0</td>\n",
       "    </tr>\n",
       "  </tbody>\n",
       "</table>\n",
       "<p>65245 rows × 4 columns</p>\n",
       "</div>"
      ],
      "text/plain": [
       "       property_type_residential_building  property_type_apartment  \\\n",
       "0                                       0                        0   \n",
       "1                                       1                        0   \n",
       "2                                       0                        0   \n",
       "3                                       0                        0   \n",
       "4                                       1                        0   \n",
       "...                                   ...                      ...   \n",
       "65240                                   1                        0   \n",
       "65241                                   1                        0   \n",
       "65242                                   1                        0   \n",
       "65243                                   1                        0   \n",
       "65244                                   1                        0   \n",
       "\n",
       "       property_type_mansion  property_type_detached_house  \n",
       "0                          1                             0  \n",
       "1                          0                             0  \n",
       "2                          1                             0  \n",
       "3                          0                             1  \n",
       "4                          0                             0  \n",
       "...                      ...                           ...  \n",
       "65240                      0                             0  \n",
       "65241                      0                             0  \n",
       "65242                      0                             0  \n",
       "65243                      0                             0  \n",
       "65244                      0                             0  \n",
       "\n",
       "[65245 rows x 4 columns]"
      ]
     },
     "execution_count": 12,
     "metadata": {},
     "output_type": "execute_result"
    }
   ],
   "source": [
    "df[['property_type_residential_building', 'property_type_apartment', 'property_type_mansion', 'property_type_detached_house']]"
   ]
  },
  {
   "cell_type": "markdown",
   "metadata": {},
   "source": [
    "`Floor` processing "
   ]
  },
  {
   "cell_type": "code",
   "execution_count": 13,
   "metadata": {},
   "outputs": [],
   "source": [
    "# Split floor to sale_floor and total_floor\n",
    "df[['sale_floor', 'total_floor']] = df['floor'].str.split('/', expand=True)\n",
    "df = df.drop(['floor'], axis=1)"
   ]
  },
  {
   "cell_type": "code",
   "execution_count": 14,
   "metadata": {},
   "outputs": [],
   "source": [
    "# Convert Chinese to Arabic number in total_floor column\n",
    "df['total_floor'] = df['total_floor'].replace('層','', regex=True)\n",
    "df = df.drop(df[df['total_floor'] == '--'].index)    # Remove the row if the total_floor value is '--'\n",
    "df['total_floor'] = df['total_floor'].apply(lambda x: cn2an.cn2an(x))\n"
   ]
  },
  {
   "cell_type": "code",
   "execution_count": 15,
   "metadata": {},
   "outputs": [],
   "source": [
    "# After splitting floor, total_floor or sale_floor might be empty  \n",
    "df = df.replace('', np.nan)\n",
    "for column_name in ['total_floor', 'sale_floor']:\n",
    "    mode_value = df[column_name].mode()[0]\n",
    "    df[column_name].fillna(mode_value, inplace=True)"
   ]
  },
  {
   "cell_type": "code",
   "execution_count": 16,
   "metadata": {},
   "outputs": [],
   "source": [
    "# Split sale_floor to sale_floor, sale_floor_basement, sale_floor_all, sale_floor_other \n",
    "def sale_floor_mapping(value):\n",
    "    keywords = ['騎樓', '見其他登記事項', '夾層', '屋頂突出物', '儲藏室', '避難室兼停車場', '防空避難室']\n",
    "    if any(keyword in value for keyword in keywords):\n",
    "        return 'other'\n",
    "    elif '地下' in value:\n",
    "        return 'basement'\n",
    "    elif '全' in value:\n",
    "        return 'all'\n",
    "    else:\n",
    "        value = value.split(',')[0].replace('層', '')\n",
    "        return cn2an.cn2an(value)\n",
    "\n",
    "df['sale_floor'] = df['sale_floor'].apply(sale_floor_mapping)\n",
    "df['sale_floor_all'] = df['sale_floor'].apply(lambda x: 1 if x == 'all' else 0)\n",
    "df['sale_floor_basement'] = df['sale_floor'].apply(lambda x: 1 if x == 'basement' else 0)\n",
    "df['sale_floor_other'] = df['sale_floor'].apply(lambda x: 1 if x == 'other' else 0)\n",
    "\n",
    "# Convert Chinese to Arabic number in sale_floor column\n",
    "df['sale_floor'] = df['sale_floor'].apply(lambda x: x if isinstance(x, (int)) else 0)\n",
    "df = pd.concat([df.drop('sale_floor', axis=1), df['sale_floor']], axis=1)"
   ]
  },
  {
   "cell_type": "code",
   "execution_count": 17,
   "metadata": {},
   "outputs": [
    {
     "data": {
      "text/html": [
       "<div>\n",
       "<style scoped>\n",
       "    .dataframe tbody tr th:only-of-type {\n",
       "        vertical-align: middle;\n",
       "    }\n",
       "\n",
       "    .dataframe tbody tr th {\n",
       "        vertical-align: top;\n",
       "    }\n",
       "\n",
       "    .dataframe thead th {\n",
       "        text-align: right;\n",
       "    }\n",
       "</style>\n",
       "<table border=\"1\" class=\"dataframe\">\n",
       "  <thead>\n",
       "    <tr style=\"text-align: right;\">\n",
       "      <th></th>\n",
       "      <th>sale_floor_all</th>\n",
       "      <th>sale_floor_basement</th>\n",
       "      <th>sale_floor_other</th>\n",
       "      <th>sale_floor</th>\n",
       "      <th>total_floor</th>\n",
       "    </tr>\n",
       "  </thead>\n",
       "  <tbody>\n",
       "    <tr>\n",
       "      <th>0</th>\n",
       "      <td>0</td>\n",
       "      <td>0</td>\n",
       "      <td>0</td>\n",
       "      <td>3</td>\n",
       "      <td>5</td>\n",
       "    </tr>\n",
       "    <tr>\n",
       "      <th>1</th>\n",
       "      <td>0</td>\n",
       "      <td>0</td>\n",
       "      <td>0</td>\n",
       "      <td>22</td>\n",
       "      <td>29</td>\n",
       "    </tr>\n",
       "    <tr>\n",
       "      <th>2</th>\n",
       "      <td>0</td>\n",
       "      <td>1</td>\n",
       "      <td>0</td>\n",
       "      <td>0</td>\n",
       "      <td>4</td>\n",
       "    </tr>\n",
       "    <tr>\n",
       "      <th>3</th>\n",
       "      <td>1</td>\n",
       "      <td>0</td>\n",
       "      <td>0</td>\n",
       "      <td>0</td>\n",
       "      <td>4</td>\n",
       "    </tr>\n",
       "    <tr>\n",
       "      <th>4</th>\n",
       "      <td>0</td>\n",
       "      <td>0</td>\n",
       "      <td>0</td>\n",
       "      <td>7</td>\n",
       "      <td>14</td>\n",
       "    </tr>\n",
       "    <tr>\n",
       "      <th>...</th>\n",
       "      <td>...</td>\n",
       "      <td>...</td>\n",
       "      <td>...</td>\n",
       "      <td>...</td>\n",
       "      <td>...</td>\n",
       "    </tr>\n",
       "    <tr>\n",
       "      <th>65240</th>\n",
       "      <td>0</td>\n",
       "      <td>0</td>\n",
       "      <td>0</td>\n",
       "      <td>8</td>\n",
       "      <td>14</td>\n",
       "    </tr>\n",
       "    <tr>\n",
       "      <th>65241</th>\n",
       "      <td>0</td>\n",
       "      <td>0</td>\n",
       "      <td>0</td>\n",
       "      <td>10</td>\n",
       "      <td>14</td>\n",
       "    </tr>\n",
       "    <tr>\n",
       "      <th>65242</th>\n",
       "      <td>0</td>\n",
       "      <td>0</td>\n",
       "      <td>0</td>\n",
       "      <td>3</td>\n",
       "      <td>14</td>\n",
       "    </tr>\n",
       "    <tr>\n",
       "      <th>65243</th>\n",
       "      <td>0</td>\n",
       "      <td>0</td>\n",
       "      <td>0</td>\n",
       "      <td>13</td>\n",
       "      <td>14</td>\n",
       "    </tr>\n",
       "    <tr>\n",
       "      <th>65244</th>\n",
       "      <td>0</td>\n",
       "      <td>0</td>\n",
       "      <td>0</td>\n",
       "      <td>6</td>\n",
       "      <td>16</td>\n",
       "    </tr>\n",
       "  </tbody>\n",
       "</table>\n",
       "<p>65224 rows × 5 columns</p>\n",
       "</div>"
      ],
      "text/plain": [
       "       sale_floor_all  sale_floor_basement  sale_floor_other  sale_floor  \\\n",
       "0                   0                    0                 0           3   \n",
       "1                   0                    0                 0          22   \n",
       "2                   0                    1                 0           0   \n",
       "3                   1                    0                 0           0   \n",
       "4                   0                    0                 0           7   \n",
       "...               ...                  ...               ...         ...   \n",
       "65240               0                    0                 0           8   \n",
       "65241               0                    0                 0          10   \n",
       "65242               0                    0                 0           3   \n",
       "65243               0                    0                 0          13   \n",
       "65244               0                    0                 0           6   \n",
       "\n",
       "       total_floor  \n",
       "0                5  \n",
       "1               29  \n",
       "2                4  \n",
       "3                4  \n",
       "4               14  \n",
       "...            ...  \n",
       "65240           14  \n",
       "65241           14  \n",
       "65242           14  \n",
       "65243           14  \n",
       "65244           16  \n",
       "\n",
       "[65224 rows x 5 columns]"
      ]
     },
     "execution_count": 17,
     "metadata": {},
     "output_type": "execute_result"
    }
   ],
   "source": [
    "df[['sale_floor_all', 'sale_floor_basement', 'sale_floor_other', 'sale_floor', 'total_floor']]"
   ]
  },
  {
   "cell_type": "markdown",
   "metadata": {},
   "source": [
    "`Closing year` processing"
   ]
  },
  {
   "cell_type": "code",
   "execution_count": 18,
   "metadata": {},
   "outputs": [],
   "source": [
    "df['closing_year'] = df['closing_year'].str.split('/', expand=True)[0]"
   ]
  },
  {
   "cell_type": "code",
   "execution_count": 19,
   "metadata": {},
   "outputs": [
    {
     "data": {
      "text/plain": [
       "0        112\n",
       "1        112\n",
       "2        112\n",
       "3        112\n",
       "4        112\n",
       "        ... \n",
       "65240    102\n",
       "65241    102\n",
       "65242    102\n",
       "65243    102\n",
       "65244    102\n",
       "Name: closing_year, Length: 65224, dtype: object"
      ]
     },
     "execution_count": 19,
     "metadata": {},
     "output_type": "execute_result"
    }
   ],
   "source": [
    "df['closing_year']"
   ]
  },
  {
   "cell_type": "markdown",
   "metadata": {},
   "source": [
    "Move `sale_floor` and `total_floor` back"
   ]
  },
  {
   "cell_type": "code",
   "execution_count": 20,
   "metadata": {},
   "outputs": [],
   "source": [
    "df = pd.concat([df.drop('sale_floor', axis=1), df['sale_floor']], axis=1)\n",
    "df = pd.concat([df.drop('total_floor', axis=1), df['total_floor']], axis=1)"
   ]
  },
  {
   "cell_type": "markdown",
   "metadata": {},
   "source": [
    "`Price` processing "
   ]
  },
  {
   "cell_type": "code",
   "execution_count": 21,
   "metadata": {},
   "outputs": [],
   "source": [
    "# Price string to int\n",
    "df['price'] = df['price'].replace(',','', regex=True).map(int)\n",
    "# move price back\n",
    "df = pd.concat([df.drop('price', axis=1), df['price']], axis=1)\n",
    "# drop (不知道哪個 RZ 在上面登記 0 元的房子)\n",
    "df.drop(df[(df['price'] == 0)].index, inplace=True)"
   ]
  },
  {
   "cell_type": "code",
   "execution_count": 22,
   "metadata": {},
   "outputs": [
    {
     "data": {
      "text/plain": [
       "0         9250000\n",
       "1         8000000\n",
       "2         4150000\n",
       "3        13550000\n",
       "4        16600000\n",
       "           ...   \n",
       "65240    16800000\n",
       "65241    17000000\n",
       "65242    16790000\n",
       "65243    27800000\n",
       "65244     4950000\n",
       "Name: price, Length: 65223, dtype: int64"
      ]
     },
     "execution_count": 22,
     "metadata": {},
     "output_type": "execute_result"
    }
   ],
   "source": [
    "df['price']"
   ]
  },
  {
   "cell_type": "markdown",
   "metadata": {},
   "source": [
    "Output the file"
   ]
  },
  {
   "cell_type": "code",
   "execution_count": 24,
   "metadata": {},
   "outputs": [
    {
     "ename": "PermissionError",
     "evalue": "[Errno 13] Permission denied: 'data-10-year.csv'",
     "output_type": "error",
     "traceback": [
      "\u001b[1;31m---------------------------------------------------------------------------\u001b[0m",
      "\u001b[1;31mPermissionError\u001b[0m                           Traceback (most recent call last)",
      "\u001b[1;32md:\\desktop\\ML\\ML_Project\\data_processing\\data.ipynb 儲存格 34\u001b[0m line \u001b[0;36m5\n\u001b[0;32m      <a href='vscode-notebook-cell:/d%3A/desktop/ML/ML_Project/data_processing/data.ipynb#X43sZmlsZQ%3D%3D?line=2'>3</a>\u001b[0m \u001b[39mfor\u001b[39;00m i \u001b[39min\u001b[39;00m \u001b[39mrange\u001b[39m(\u001b[39m1\u001b[39m, \u001b[39m11\u001b[39m):\n\u001b[0;32m      <a href='vscode-notebook-cell:/d%3A/desktop/ML/ML_Project/data_processing/data.ipynb#X43sZmlsZQ%3D%3D?line=3'>4</a>\u001b[0m     filter_df \u001b[39m=\u001b[39m df[(df[\u001b[39m'\u001b[39m\u001b[39mclosing_year\u001b[39m\u001b[39m'\u001b[39m] \u001b[39m>\u001b[39m (\u001b[39m112\u001b[39m \u001b[39m-\u001b[39m i))]\n\u001b[1;32m----> <a href='vscode-notebook-cell:/d%3A/desktop/ML/ML_Project/data_processing/data.ipynb#X43sZmlsZQ%3D%3D?line=4'>5</a>\u001b[0m     filter_df\u001b[39m.\u001b[39;49mto_csv(\u001b[39mf\u001b[39;49m\u001b[39m'\u001b[39;49m\u001b[39mdata-\u001b[39;49m\u001b[39m{\u001b[39;49;00mi\u001b[39m}\u001b[39;49;00m\u001b[39m-year.csv\u001b[39;49m\u001b[39m'\u001b[39;49m, index\u001b[39m=\u001b[39;49m\u001b[39mFalse\u001b[39;49;00m, encoding\u001b[39m=\u001b[39;49m\u001b[39m\"\u001b[39;49m\u001b[39mutf_8_sig\u001b[39;49m\u001b[39m\"\u001b[39;49m)\n\u001b[0;32m      <a href='vscode-notebook-cell:/d%3A/desktop/ML/ML_Project/data_processing/data.ipynb#X43sZmlsZQ%3D%3D?line=5'>6</a>\u001b[0m df\n",
      "File \u001b[1;32mc:\\Users\\88693\\AppData\\Local\\Programs\\Python\\Python311\\Lib\\site-packages\\pandas\\util\\_decorators.py:211\u001b[0m, in \u001b[0;36mdeprecate_kwarg.<locals>._deprecate_kwarg.<locals>.wrapper\u001b[1;34m(*args, **kwargs)\u001b[0m\n\u001b[0;32m    209\u001b[0m     \u001b[39melse\u001b[39;00m:\n\u001b[0;32m    210\u001b[0m         kwargs[new_arg_name] \u001b[39m=\u001b[39m new_arg_value\n\u001b[1;32m--> 211\u001b[0m \u001b[39mreturn\u001b[39;00m func(\u001b[39m*\u001b[39;49margs, \u001b[39m*\u001b[39;49m\u001b[39m*\u001b[39;49mkwargs)\n",
      "File \u001b[1;32mc:\\Users\\88693\\AppData\\Local\\Programs\\Python\\Python311\\Lib\\site-packages\\pandas\\core\\generic.py:3720\u001b[0m, in \u001b[0;36mNDFrame.to_csv\u001b[1;34m(self, path_or_buf, sep, na_rep, float_format, columns, header, index, index_label, mode, encoding, compression, quoting, quotechar, lineterminator, chunksize, date_format, doublequote, escapechar, decimal, errors, storage_options)\u001b[0m\n\u001b[0;32m   3709\u001b[0m df \u001b[39m=\u001b[39m \u001b[39mself\u001b[39m \u001b[39mif\u001b[39;00m \u001b[39misinstance\u001b[39m(\u001b[39mself\u001b[39m, ABCDataFrame) \u001b[39melse\u001b[39;00m \u001b[39mself\u001b[39m\u001b[39m.\u001b[39mto_frame()\n\u001b[0;32m   3711\u001b[0m formatter \u001b[39m=\u001b[39m DataFrameFormatter(\n\u001b[0;32m   3712\u001b[0m     frame\u001b[39m=\u001b[39mdf,\n\u001b[0;32m   3713\u001b[0m     header\u001b[39m=\u001b[39mheader,\n\u001b[1;32m   (...)\u001b[0m\n\u001b[0;32m   3717\u001b[0m     decimal\u001b[39m=\u001b[39mdecimal,\n\u001b[0;32m   3718\u001b[0m )\n\u001b[1;32m-> 3720\u001b[0m \u001b[39mreturn\u001b[39;00m DataFrameRenderer(formatter)\u001b[39m.\u001b[39;49mto_csv(\n\u001b[0;32m   3721\u001b[0m     path_or_buf,\n\u001b[0;32m   3722\u001b[0m     lineterminator\u001b[39m=\u001b[39;49mlineterminator,\n\u001b[0;32m   3723\u001b[0m     sep\u001b[39m=\u001b[39;49msep,\n\u001b[0;32m   3724\u001b[0m     encoding\u001b[39m=\u001b[39;49mencoding,\n\u001b[0;32m   3725\u001b[0m     errors\u001b[39m=\u001b[39;49merrors,\n\u001b[0;32m   3726\u001b[0m     compression\u001b[39m=\u001b[39;49mcompression,\n\u001b[0;32m   3727\u001b[0m     quoting\u001b[39m=\u001b[39;49mquoting,\n\u001b[0;32m   3728\u001b[0m     columns\u001b[39m=\u001b[39;49mcolumns,\n\u001b[0;32m   3729\u001b[0m     index_label\u001b[39m=\u001b[39;49mindex_label,\n\u001b[0;32m   3730\u001b[0m     mode\u001b[39m=\u001b[39;49mmode,\n\u001b[0;32m   3731\u001b[0m     chunksize\u001b[39m=\u001b[39;49mchunksize,\n\u001b[0;32m   3732\u001b[0m     quotechar\u001b[39m=\u001b[39;49mquotechar,\n\u001b[0;32m   3733\u001b[0m     date_format\u001b[39m=\u001b[39;49mdate_format,\n\u001b[0;32m   3734\u001b[0m     doublequote\u001b[39m=\u001b[39;49mdoublequote,\n\u001b[0;32m   3735\u001b[0m     escapechar\u001b[39m=\u001b[39;49mescapechar,\n\u001b[0;32m   3736\u001b[0m     storage_options\u001b[39m=\u001b[39;49mstorage_options,\n\u001b[0;32m   3737\u001b[0m )\n",
      "File \u001b[1;32mc:\\Users\\88693\\AppData\\Local\\Programs\\Python\\Python311\\Lib\\site-packages\\pandas\\util\\_decorators.py:211\u001b[0m, in \u001b[0;36mdeprecate_kwarg.<locals>._deprecate_kwarg.<locals>.wrapper\u001b[1;34m(*args, **kwargs)\u001b[0m\n\u001b[0;32m    209\u001b[0m     \u001b[39melse\u001b[39;00m:\n\u001b[0;32m    210\u001b[0m         kwargs[new_arg_name] \u001b[39m=\u001b[39m new_arg_value\n\u001b[1;32m--> 211\u001b[0m \u001b[39mreturn\u001b[39;00m func(\u001b[39m*\u001b[39;49margs, \u001b[39m*\u001b[39;49m\u001b[39m*\u001b[39;49mkwargs)\n",
      "File \u001b[1;32mc:\\Users\\88693\\AppData\\Local\\Programs\\Python\\Python311\\Lib\\site-packages\\pandas\\io\\formats\\format.py:1189\u001b[0m, in \u001b[0;36mDataFrameRenderer.to_csv\u001b[1;34m(self, path_or_buf, encoding, sep, columns, index_label, mode, compression, quoting, quotechar, lineterminator, chunksize, date_format, doublequote, escapechar, errors, storage_options)\u001b[0m\n\u001b[0;32m   1168\u001b[0m     created_buffer \u001b[39m=\u001b[39m \u001b[39mFalse\u001b[39;00m\n\u001b[0;32m   1170\u001b[0m csv_formatter \u001b[39m=\u001b[39m CSVFormatter(\n\u001b[0;32m   1171\u001b[0m     path_or_buf\u001b[39m=\u001b[39mpath_or_buf,\n\u001b[0;32m   1172\u001b[0m     lineterminator\u001b[39m=\u001b[39mlineterminator,\n\u001b[1;32m   (...)\u001b[0m\n\u001b[0;32m   1187\u001b[0m     formatter\u001b[39m=\u001b[39m\u001b[39mself\u001b[39m\u001b[39m.\u001b[39mfmt,\n\u001b[0;32m   1188\u001b[0m )\n\u001b[1;32m-> 1189\u001b[0m csv_formatter\u001b[39m.\u001b[39;49msave()\n\u001b[0;32m   1191\u001b[0m \u001b[39mif\u001b[39;00m created_buffer:\n\u001b[0;32m   1192\u001b[0m     \u001b[39massert\u001b[39;00m \u001b[39misinstance\u001b[39m(path_or_buf, StringIO)\n",
      "File \u001b[1;32mc:\\Users\\88693\\AppData\\Local\\Programs\\Python\\Python311\\Lib\\site-packages\\pandas\\io\\formats\\csvs.py:241\u001b[0m, in \u001b[0;36mCSVFormatter.save\u001b[1;34m(self)\u001b[0m\n\u001b[0;32m    237\u001b[0m \u001b[39m\"\"\"\u001b[39;00m\n\u001b[0;32m    238\u001b[0m \u001b[39mCreate the writer & save.\u001b[39;00m\n\u001b[0;32m    239\u001b[0m \u001b[39m\"\"\"\u001b[39;00m\n\u001b[0;32m    240\u001b[0m \u001b[39m# apply compression and byte/text conversion\u001b[39;00m\n\u001b[1;32m--> 241\u001b[0m \u001b[39mwith\u001b[39;00m get_handle(\n\u001b[0;32m    242\u001b[0m     \u001b[39mself\u001b[39;49m\u001b[39m.\u001b[39;49mfilepath_or_buffer,\n\u001b[0;32m    243\u001b[0m     \u001b[39mself\u001b[39;49m\u001b[39m.\u001b[39;49mmode,\n\u001b[0;32m    244\u001b[0m     encoding\u001b[39m=\u001b[39;49m\u001b[39mself\u001b[39;49m\u001b[39m.\u001b[39;49mencoding,\n\u001b[0;32m    245\u001b[0m     errors\u001b[39m=\u001b[39;49m\u001b[39mself\u001b[39;49m\u001b[39m.\u001b[39;49merrors,\n\u001b[0;32m    246\u001b[0m     compression\u001b[39m=\u001b[39;49m\u001b[39mself\u001b[39;49m\u001b[39m.\u001b[39;49mcompression,\n\u001b[0;32m    247\u001b[0m     storage_options\u001b[39m=\u001b[39;49m\u001b[39mself\u001b[39;49m\u001b[39m.\u001b[39;49mstorage_options,\n\u001b[0;32m    248\u001b[0m ) \u001b[39mas\u001b[39;00m handles:\n\u001b[0;32m    249\u001b[0m \n\u001b[0;32m    250\u001b[0m     \u001b[39m# Note: self.encoding is irrelevant here\u001b[39;00m\n\u001b[0;32m    251\u001b[0m     \u001b[39mself\u001b[39m\u001b[39m.\u001b[39mwriter \u001b[39m=\u001b[39m csvlib\u001b[39m.\u001b[39mwriter(\n\u001b[0;32m    252\u001b[0m         handles\u001b[39m.\u001b[39mhandle,\n\u001b[0;32m    253\u001b[0m         lineterminator\u001b[39m=\u001b[39m\u001b[39mself\u001b[39m\u001b[39m.\u001b[39mlineterminator,\n\u001b[1;32m   (...)\u001b[0m\n\u001b[0;32m    258\u001b[0m         quotechar\u001b[39m=\u001b[39m\u001b[39mself\u001b[39m\u001b[39m.\u001b[39mquotechar,\n\u001b[0;32m    259\u001b[0m     )\n\u001b[0;32m    261\u001b[0m     \u001b[39mself\u001b[39m\u001b[39m.\u001b[39m_save()\n",
      "File \u001b[1;32mc:\\Users\\88693\\AppData\\Local\\Programs\\Python\\Python311\\Lib\\site-packages\\pandas\\io\\common.py:856\u001b[0m, in \u001b[0;36mget_handle\u001b[1;34m(path_or_buf, mode, encoding, compression, memory_map, is_text, errors, storage_options)\u001b[0m\n\u001b[0;32m    851\u001b[0m \u001b[39melif\u001b[39;00m \u001b[39misinstance\u001b[39m(handle, \u001b[39mstr\u001b[39m):\n\u001b[0;32m    852\u001b[0m     \u001b[39m# Check whether the filename is to be opened in binary mode.\u001b[39;00m\n\u001b[0;32m    853\u001b[0m     \u001b[39m# Binary mode does not support 'encoding' and 'newline'.\u001b[39;00m\n\u001b[0;32m    854\u001b[0m     \u001b[39mif\u001b[39;00m ioargs\u001b[39m.\u001b[39mencoding \u001b[39mand\u001b[39;00m \u001b[39m\"\u001b[39m\u001b[39mb\u001b[39m\u001b[39m\"\u001b[39m \u001b[39mnot\u001b[39;00m \u001b[39min\u001b[39;00m ioargs\u001b[39m.\u001b[39mmode:\n\u001b[0;32m    855\u001b[0m         \u001b[39m# Encoding\u001b[39;00m\n\u001b[1;32m--> 856\u001b[0m         handle \u001b[39m=\u001b[39m \u001b[39mopen\u001b[39m(\n\u001b[0;32m    857\u001b[0m             handle,\n\u001b[0;32m    858\u001b[0m             ioargs\u001b[39m.\u001b[39mmode,\n\u001b[0;32m    859\u001b[0m             encoding\u001b[39m=\u001b[39mioargs\u001b[39m.\u001b[39mencoding,\n\u001b[0;32m    860\u001b[0m             errors\u001b[39m=\u001b[39merrors,\n\u001b[0;32m    861\u001b[0m             newline\u001b[39m=\u001b[39m\u001b[39m\"\u001b[39m\u001b[39m\"\u001b[39m,\n\u001b[0;32m    862\u001b[0m         )\n\u001b[0;32m    863\u001b[0m     \u001b[39melse\u001b[39;00m:\n\u001b[0;32m    864\u001b[0m         \u001b[39m# Binary mode\u001b[39;00m\n\u001b[0;32m    865\u001b[0m         handle \u001b[39m=\u001b[39m \u001b[39mopen\u001b[39m(handle, ioargs\u001b[39m.\u001b[39mmode)\n",
      "\u001b[1;31mPermissionError\u001b[0m: [Errno 13] Permission denied: 'data-10-year.csv'"
     ]
    }
   ],
   "source": [
    "df.to_csv(f'{output_file_name}.csv', index=False, encoding=\"utf_8_sig\")\n",
    "df"
   ]
  },
  {
   "cell_type": "code",
   "execution_count": 26,
   "metadata": {},
   "outputs": [],
   "source": [
    "df = pd.read_csv('data-10-year.csv')\n",
    "df['closing_year'] = df['closing_year'].astype(int)\n",
    "for i in range(2, 11):\n",
    "    filter_df = df[(df['closing_year'] > (112 - i))]\n",
    "    filter_df.to_csv(f'data-{i}-year.csv', index=False, encoding=\"utf_8_sig\")"
   ]
  }
 ],
 "metadata": {
  "kernelspec": {
   "display_name": "Python 3",
   "language": "python",
   "name": "python3"
  },
  "language_info": {
   "codemirror_mode": {
    "name": "ipython",
    "version": 3
   },
   "file_extension": ".py",
   "mimetype": "text/x-python",
   "name": "python",
   "nbconvert_exporter": "python",
   "pygments_lexer": "ipython3",
   "version": "3.11.0"
  }
 },
 "nbformat": 4,
 "nbformat_minor": 2
}
