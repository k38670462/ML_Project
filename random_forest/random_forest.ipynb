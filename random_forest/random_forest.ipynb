{
  "cells": [
    {
      "cell_type": "markdown",
      "metadata": {
        "id": "BBAUHkGnics6"
      },
      "source": [
        "### Import Packages"
      ]
    },
    {
      "cell_type": "code",
      "execution_count": 43,
      "metadata": {
        "id": "Kj-clLA5ictF"
      },
      "outputs": [],
      "source": [
        "import os\n",
        "import numpy as np\n",
        "import pandas as pd\n",
        "import matplotlib.pyplot as plt\n",
        "\n",
        "from scipy.stats import randint\n",
        "from sklearn.impute import SimpleImputer\n",
        "from sklearn.ensemble import RandomForestRegressor\n",
        "from sklearn.model_selection import (\n",
        "    train_test_split,\n",
        "    GridSearchCV,\n",
        "    RandomizedSearchCV )\n",
        "from sklearn.metrics import r2_score"
      ]
    },
    {
      "cell_type": "markdown",
      "metadata": {
        "id": "Yj6YDxqTictG"
      },
      "source": [
        "### Global Variables"
      ]
    },
    {
      "cell_type": "code",
      "execution_count": 35,
      "metadata": {
        "id": "sfa-9IxXictG"
      },
      "outputs": [],
      "source": [
        "AUTOMODE = True\n",
        "imputer = SimpleImputer(strategy='mean')   # deal with missing area\n",
        "\n",
        "train_file_path = '../data_processing/Unfiltered-Data/Train/train-data-5-year.csv'\n",
        "test_file_path = '../data_processing/Unfiltered-Data/Test/test-data-5-year.csv'\n",
        "train_df = pd.read_csv(train_file_path)\n",
        "test_df = pd.read_csv(test_file_path)\n",
        "\n",
        "X_training, X_validation, Y_training, Y_validation = [], [], [], []"
      ]
    },
    {
      "cell_type": "markdown",
      "metadata": {
        "id": "xVNQ3XtzictG"
      },
      "source": [
        "### Get Training and Validation Dataset\n",
        "- training: train model\n",
        "- validation: early stopping\n",
        "- testing: evaluate model"
      ]
    },
    {
      "cell_type": "code",
      "execution_count": 36,
      "metadata": {
        "id": "2r0Kug_kictH"
      },
      "outputs": [
        {
          "name": "stdout",
          "output_type": "stream",
          "text": [
            "[OK] DataPreprocessing\n",
            "<class 'pandas.core.frame.DataFrame'> (17873, 24)\n",
            "<class 'pandas.core.series.Series'> (17873,)\n",
            "<class 'pandas.core.frame.DataFrame'> (7660, 24)\n",
            "<class 'pandas.core.series.Series'> (7660,)\n",
            "<class 'pandas.core.frame.DataFrame'> (2837, 24)\n",
            "<class 'pandas.core.series.Series'> (2837,)\n"
          ]
        }
      ],
      "source": [
        "def DataPreprocessing(train_df, test_df):\n",
        "    # Prepocess data frame, convert all elements to int/float type, deal with NaN value in area column.\n",
        "    train_df = train_df.apply(pd.to_numeric, errors='coerce')\n",
        "    train_df['area'] = imputer.fit_transform(train_df[['area']])\n",
        "\n",
        "    # Split data frame into feature set and label set, then seperate both into training and validation dataset.\n",
        "    features = train_df.drop('price', axis='columns')\n",
        "    label = train_df['price']\n",
        "\n",
        "    X_training, X_validation, Y_training, Y_validation = train_test_split(features, label, test_size=0.3, random_state=3)\n",
        "    X_testing = test_df.drop('price', axis='columns')\n",
        "    Y_testing = test_df['price']\n",
        "\n",
        "    # split training dataset into training and validation dataset, for early stopping\n",
        "    return X_training, X_validation, Y_training, Y_validation, X_testing, Y_testing\n",
        "\n",
        "X_training, X_validation, Y_training, Y_validation, X_testing, Y_testing = DataPreprocessing(train_df, test_df)\n",
        "print('[OK] DataPreprocessing')\n",
        "print(f'{type(X_training)} {X_training.shape}')\n",
        "print(f'{type(Y_training)} {Y_training.shape}')\n",
        "print(f'{type(X_validation)} {X_validation.shape}')\n",
        "print(f'{type(Y_validation)} {Y_validation.shape}')\n",
        "print(f'{type(X_testing)} {X_testing.shape}')\n",
        "print(f'{type(Y_testing)} {Y_testing.shape}')"
      ]
    },
    {
      "cell_type": "code",
      "execution_count": 37,
      "metadata": {},
      "outputs": [],
      "source": [
        "# parameters\n",
        "num_iterations = 50\n",
        "\n",
        "# 5 years\n",
        "rf_parameters = {\n",
        "    'n_estimators': 200,\n",
        "    'criterion': 'friedman_mse',\n",
        "    'max_depth': 18,\n",
        "    'min_samples_split': 4,\n",
        "    'min_samples_leaf': 1,\n",
        "    'max_features': 'sqrt',\n",
        "    'random_state': 165,\n",
        "    'n_jobs': -1\n",
        "}"
      ]
    },
    {
      "cell_type": "markdown",
      "metadata": {},
      "source": [
        "### Randomized Cross Validation"
      ]
    },
    {
      "cell_type": "code",
      "execution_count": 38,
      "metadata": {},
      "outputs": [
        {
          "name": "stdout",
          "output_type": "stream",
          "text": [
            "Fitting 3 folds for each of 3 candidates, totalling 9 fits\n",
            "[CV 1/3] END max_depth=16, min_samples_leaf=2, min_samples_split=2, n_estimators=171, random_state=153;, score=0.866 total time=   4.9s\n",
            "[CV 2/3] END max_depth=16, min_samples_leaf=2, min_samples_split=2, n_estimators=171, random_state=153;, score=0.869 total time=   4.8s\n",
            "[CV 3/3] END max_depth=16, min_samples_leaf=2, min_samples_split=2, n_estimators=171, random_state=153;, score=0.875 total time=   4.8s\n",
            "[CV 1/3] END max_depth=12, min_samples_leaf=2, min_samples_split=4, n_estimators=155, random_state=165;, score=0.861 total time=   3.8s\n",
            "[CV 2/3] END max_depth=12, min_samples_leaf=2, min_samples_split=4, n_estimators=155, random_state=165;, score=0.864 total time=   3.8s\n",
            "[CV 3/3] END max_depth=12, min_samples_leaf=2, min_samples_split=4, n_estimators=155, random_state=165;, score=0.871 total time=   3.9s\n",
            "[CV 1/3] END max_depth=19, min_samples_leaf=1, min_samples_split=4, n_estimators=142, random_state=128;, score=0.868 total time=   4.4s\n",
            "[CV 2/3] END max_depth=19, min_samples_leaf=1, min_samples_split=4, n_estimators=142, random_state=128;, score=0.871 total time=   4.5s\n",
            "[CV 3/3] END max_depth=19, min_samples_leaf=1, min_samples_split=4, n_estimators=142, random_state=128;, score=0.878 total time=   4.5s\n",
            "Best param in rCV: {'max_depth': 19, 'min_samples_leaf': 1, 'min_samples_split': 4, 'n_estimators': 142, 'random_state': 128}\n",
            "Best score in rCV: 87.202\n"
          ]
        }
      ],
      "source": [
        "def AutoTuningRandomized(X_training, Y_training):\n",
        "    param = {\n",
        "        'n_estimators': randint(100, 200),\n",
        "        'max_depth': randint(10, 20),\n",
        "        'min_samples_split': randint(2, 5),\n",
        "        'min_samples_leaf': randint(1, 4),\n",
        "        'random_state': randint(100, 200),\n",
        "    }\n",
        "\n",
        "    # automatically search for best parameters and the corresponding score\n",
        "    result = RandomizedSearchCV (\n",
        "        RandomForestRegressor(),\n",
        "        param_distributions=param,\n",
        "        scoring='r2',\n",
        "        verbose=4,\n",
        "        cv=3,\n",
        "        n_iter=3\n",
        "    )\n",
        "\n",
        "    result.fit(X_training, Y_training)\n",
        "    best_param = result.best_params_\n",
        "    best_score = result.best_score_\n",
        "    print(f'Best param in rCV: {best_param}')\n",
        "    print(f'Best score in rCV: {round(best_score * 100, 3)}')\n",
        "\n",
        "    return best_param\n",
        "\n",
        "params_randomized = AutoTuningRandomized(X_training, Y_training)"
      ]
    },
    {
      "cell_type": "markdown",
      "metadata": {},
      "source": [
        "### Grid Cross Validation"
      ]
    },
    {
      "cell_type": "code",
      "execution_count": 39,
      "metadata": {},
      "outputs": [
        {
          "name": "stdout",
          "output_type": "stream",
          "text": [
            "Fitting 3 folds for each of 21 candidates, totalling 63 fits\n",
            "[CV 1/3] END ..................n_estimators=100;, score=0.869 total time=   3.5s\n",
            "[CV 2/3] END ..................n_estimators=100;, score=0.871 total time=   3.5s\n",
            "[CV 3/3] END ..................n_estimators=100;, score=0.875 total time=   3.5s\n",
            "[CV 1/3] END ..................n_estimators=105;, score=0.867 total time=   3.6s\n",
            "[CV 2/3] END ..................n_estimators=105;, score=0.870 total time=   3.7s\n",
            "[CV 3/3] END ..................n_estimators=105;, score=0.876 total time=   3.6s\n",
            "[CV 1/3] END ..................n_estimators=110;, score=0.868 total time=   3.8s\n",
            "[CV 2/3] END ..................n_estimators=110;, score=0.870 total time=   3.8s\n",
            "[CV 3/3] END ..................n_estimators=110;, score=0.876 total time=   3.8s\n",
            "[CV 1/3] END ..................n_estimators=115;, score=0.869 total time=   4.0s\n",
            "[CV 2/3] END ..................n_estimators=115;, score=0.870 total time=   4.0s\n",
            "[CV 3/3] END ..................n_estimators=115;, score=0.875 total time=   4.0s\n",
            "[CV 1/3] END ..................n_estimators=120;, score=0.868 total time=   4.1s\n",
            "[CV 2/3] END ..................n_estimators=120;, score=0.870 total time=   4.1s\n",
            "[CV 3/3] END ..................n_estimators=120;, score=0.876 total time=   4.2s\n",
            "[CV 1/3] END ..................n_estimators=125;, score=0.867 total time=   4.3s\n",
            "[CV 2/3] END ..................n_estimators=125;, score=0.870 total time=   4.3s\n",
            "[CV 3/3] END ..................n_estimators=125;, score=0.877 total time=   4.3s\n",
            "[CV 1/3] END ..................n_estimators=130;, score=0.868 total time=   4.5s\n",
            "[CV 2/3] END ..................n_estimators=130;, score=0.869 total time=   4.5s\n",
            "[CV 3/3] END ..................n_estimators=130;, score=0.876 total time=   4.5s\n",
            "[CV 1/3] END ..................n_estimators=135;, score=0.868 total time=   4.6s\n",
            "[CV 2/3] END ..................n_estimators=135;, score=0.869 total time=   4.6s\n",
            "[CV 3/3] END ..................n_estimators=135;, score=0.876 total time=   4.7s\n",
            "[CV 1/3] END ..................n_estimators=140;, score=0.868 total time=   4.8s\n",
            "[CV 2/3] END ..................n_estimators=140;, score=0.870 total time=   4.8s\n",
            "[CV 3/3] END ..................n_estimators=140;, score=0.877 total time=   4.9s\n",
            "[CV 1/3] END ..................n_estimators=145;, score=0.868 total time=   5.0s\n",
            "[CV 2/3] END ..................n_estimators=145;, score=0.871 total time=   5.0s\n",
            "[CV 3/3] END ..................n_estimators=145;, score=0.876 total time=   5.0s\n",
            "[CV 1/3] END ..................n_estimators=150;, score=0.868 total time=   5.2s\n",
            "[CV 2/3] END ..................n_estimators=150;, score=0.870 total time=   5.2s\n",
            "[CV 3/3] END ..................n_estimators=150;, score=0.875 total time=   5.2s\n",
            "[CV 1/3] END ..................n_estimators=155;, score=0.869 total time=   5.3s\n",
            "[CV 2/3] END ..................n_estimators=155;, score=0.870 total time=   5.4s\n",
            "[CV 3/3] END ..................n_estimators=155;, score=0.876 total time=   5.4s\n",
            "[CV 1/3] END ..................n_estimators=160;, score=0.868 total time=   5.5s\n",
            "[CV 2/3] END ..................n_estimators=160;, score=0.870 total time=   5.5s\n",
            "[CV 3/3] END ..................n_estimators=160;, score=0.877 total time=   5.6s\n",
            "[CV 1/3] END ..................n_estimators=165;, score=0.867 total time=   5.7s\n",
            "[CV 2/3] END ..................n_estimators=165;, score=0.870 total time=   5.7s\n",
            "[CV 3/3] END ..................n_estimators=165;, score=0.876 total time=   5.7s\n",
            "[CV 1/3] END ..................n_estimators=170;, score=0.868 total time=   5.9s\n",
            "[CV 2/3] END ..................n_estimators=170;, score=0.871 total time=   5.8s\n",
            "[CV 3/3] END ..................n_estimators=170;, score=0.876 total time=   5.9s\n",
            "[CV 1/3] END ..................n_estimators=175;, score=0.867 total time=   6.0s\n",
            "[CV 2/3] END ..................n_estimators=175;, score=0.870 total time=   6.0s\n",
            "[CV 3/3] END ..................n_estimators=175;, score=0.876 total time=   6.1s\n",
            "[CV 1/3] END ..................n_estimators=180;, score=0.868 total time=   6.2s\n",
            "[CV 2/3] END ..................n_estimators=180;, score=0.870 total time=   6.2s\n",
            "[CV 3/3] END ..................n_estimators=180;, score=0.876 total time=   6.3s\n",
            "[CV 1/3] END ..................n_estimators=185;, score=0.869 total time=   6.4s\n",
            "[CV 2/3] END ..................n_estimators=185;, score=0.870 total time=   6.4s\n",
            "[CV 3/3] END ..................n_estimators=185;, score=0.877 total time=   6.4s\n",
            "[CV 1/3] END ..................n_estimators=190;, score=0.868 total time=   6.5s\n",
            "[CV 2/3] END ..................n_estimators=190;, score=0.870 total time=   6.5s\n",
            "[CV 3/3] END ..................n_estimators=190;, score=0.875 total time=   6.6s\n",
            "[CV 1/3] END ..................n_estimators=195;, score=0.869 total time=   6.7s\n",
            "[CV 2/3] END ..................n_estimators=195;, score=0.870 total time=   6.7s\n",
            "[CV 3/3] END ..................n_estimators=195;, score=0.877 total time=   6.8s\n",
            "[CV 1/3] END ..................n_estimators=200;, score=0.869 total time=   7.0s\n",
            "[CV 2/3] END ..................n_estimators=200;, score=0.871 total time=   7.0s\n",
            "[CV 3/3] END ..................n_estimators=200;, score=0.877 total time=   7.0s\n",
            "Best n_estimators: {'n_estimators': 200, 'max_depth': -1, 'min_samples_split': -1, 'min_samples_leaf': -1, 'random_state': -1}\n",
            "Best n_estimators score: 87.234\n",
            "Fitting 3 folds for each of 6 candidates, totalling 18 fits\n",
            "[CV 1/3] END ......................max_depth=10;, score=0.851 total time=   2.2s\n",
            "[CV 2/3] END ......................max_depth=10;, score=0.856 total time=   2.2s\n",
            "[CV 3/3] END ......................max_depth=10;, score=0.860 total time=   2.1s\n",
            "[CV 1/3] END ......................max_depth=12;, score=0.861 total time=   2.6s\n",
            "[CV 2/3] END ......................max_depth=12;, score=0.865 total time=   2.6s\n",
            "[CV 3/3] END ......................max_depth=12;, score=0.871 total time=   2.6s\n",
            "[CV 1/3] END ......................max_depth=14;, score=0.866 total time=   2.9s\n",
            "[CV 2/3] END ......................max_depth=14;, score=0.868 total time=   2.9s\n",
            "[CV 3/3] END ......................max_depth=14;, score=0.874 total time=   2.9s\n",
            "[CV 1/3] END ......................max_depth=16;, score=0.867 total time=   3.1s\n",
            "[CV 2/3] END ......................max_depth=16;, score=0.870 total time=   3.1s\n",
            "[CV 3/3] END ......................max_depth=16;, score=0.874 total time=   3.2s\n",
            "[CV 1/3] END ......................max_depth=18;, score=0.868 total time=   3.3s\n",
            "[CV 2/3] END ......................max_depth=18;, score=0.870 total time=   3.3s\n",
            "[CV 3/3] END ......................max_depth=18;, score=0.876 total time=   3.3s\n",
            "[CV 1/3] END ......................max_depth=20;, score=0.868 total time=   3.4s\n",
            "[CV 2/3] END ......................max_depth=20;, score=0.870 total time=   3.3s\n",
            "[CV 3/3] END ......................max_depth=20;, score=0.875 total time=   3.4s\n",
            "Best max_depth: {'n_estimators': 200, 'max_depth': 18, 'min_samples_split': -1, 'min_samples_leaf': -1, 'random_state': -1}\n",
            "Best max_depth score: 87.109\n",
            "Fitting 3 folds for each of 3 candidates, totalling 9 fits\n",
            "[CV 1/3] END ...............min_samples_split=2;, score=0.868 total time=   3.5s\n",
            "[CV 2/3] END ...............min_samples_split=2;, score=0.870 total time=   3.4s\n",
            "[CV 3/3] END ...............min_samples_split=2;, score=0.876 total time=   3.5s\n",
            "[CV 1/3] END ...............min_samples_split=3;, score=0.867 total time=   3.3s\n",
            "[CV 2/3] END ...............min_samples_split=3;, score=0.870 total time=   3.3s\n",
            "[CV 3/3] END ...............min_samples_split=3;, score=0.876 total time=   3.3s\n",
            "[CV 1/3] END ...............min_samples_split=4;, score=0.867 total time=   3.2s\n",
            "[CV 2/3] END ...............min_samples_split=4;, score=0.870 total time=   3.2s\n",
            "[CV 3/3] END ...............min_samples_split=4;, score=0.877 total time=   3.2s\n",
            "Best min_samples_split: {'n_estimators': 200, 'max_depth': 18, 'min_samples_split': 4, 'min_samples_leaf': -1, 'random_state': -1}\n",
            "Best min_samples_split score: 87.122\n",
            "Fitting 3 folds for each of 3 candidates, totalling 9 fits\n",
            "[CV 1/3] END ................min_samples_leaf=1;, score=0.867 total time=   3.4s\n",
            "[CV 2/3] END ................min_samples_leaf=1;, score=0.870 total time=   3.4s\n",
            "[CV 3/3] END ................min_samples_leaf=1;, score=0.876 total time=   3.4s\n",
            "[CV 1/3] END ................min_samples_leaf=2;, score=0.866 total time=   3.0s\n",
            "[CV 2/3] END ................min_samples_leaf=2;, score=0.869 total time=   3.0s\n",
            "[CV 3/3] END ................min_samples_leaf=2;, score=0.876 total time=   3.0s\n",
            "[CV 1/3] END ................min_samples_leaf=3;, score=0.865 total time=   2.8s\n",
            "[CV 2/3] END ................min_samples_leaf=3;, score=0.867 total time=   2.8s\n",
            "[CV 3/3] END ................min_samples_leaf=3;, score=0.874 total time=   2.8s\n",
            "Best min_samples_leaf: {'n_estimators': 200, 'max_depth': 18, 'min_samples_split': 4, 'min_samples_leaf': 1, 'random_state': -1}\n",
            "Best min_samples_leaf score: 87.088\n",
            "Fitting 3 folds for each of 21 candidates, totalling 63 fits\n",
            "[CV 1/3] END ..................random_state=100;, score=0.868 total time=   3.4s\n",
            "[CV 2/3] END ..................random_state=100;, score=0.870 total time=   3.4s\n",
            "[CV 3/3] END ..................random_state=100;, score=0.876 total time=   3.5s\n",
            "[CV 1/3] END ..................random_state=105;, score=0.868 total time=   3.4s\n",
            "[CV 2/3] END ..................random_state=105;, score=0.868 total time=   3.4s\n",
            "[CV 3/3] END ..................random_state=105;, score=0.875 total time=   3.5s\n",
            "[CV 1/3] END ..................random_state=110;, score=0.867 total time=   3.4s\n",
            "[CV 2/3] END ..................random_state=110;, score=0.871 total time=   3.4s\n",
            "[CV 3/3] END ..................random_state=110;, score=0.875 total time=   3.4s\n",
            "[CV 1/3] END ..................random_state=115;, score=0.868 total time=   3.4s\n",
            "[CV 2/3] END ..................random_state=115;, score=0.870 total time=   3.4s\n",
            "[CV 3/3] END ..................random_state=115;, score=0.876 total time=   3.5s\n",
            "[CV 1/3] END ..................random_state=120;, score=0.868 total time=   3.4s\n",
            "[CV 2/3] END ..................random_state=120;, score=0.870 total time=   3.4s\n",
            "[CV 3/3] END ..................random_state=120;, score=0.876 total time=   3.5s\n",
            "[CV 1/3] END ..................random_state=125;, score=0.868 total time=   3.4s\n",
            "[CV 2/3] END ..................random_state=125;, score=0.870 total time=   3.5s\n",
            "[CV 3/3] END ..................random_state=125;, score=0.876 total time=   3.6s\n",
            "[CV 1/3] END ..................random_state=130;, score=0.868 total time=   3.5s\n",
            "[CV 2/3] END ..................random_state=130;, score=0.870 total time=   3.5s\n",
            "[CV 3/3] END ..................random_state=130;, score=0.875 total time=   3.5s\n",
            "[CV 1/3] END ..................random_state=135;, score=0.866 total time=   3.5s\n",
            "[CV 2/3] END ..................random_state=135;, score=0.870 total time=   3.4s\n",
            "[CV 3/3] END ..................random_state=135;, score=0.876 total time=   3.5s\n",
            "[CV 1/3] END ..................random_state=140;, score=0.868 total time=   3.4s\n",
            "[CV 2/3] END ..................random_state=140;, score=0.871 total time=   3.4s\n",
            "[CV 3/3] END ..................random_state=140;, score=0.876 total time=   3.5s\n",
            "[CV 1/3] END ..................random_state=145;, score=0.868 total time=   3.4s\n",
            "[CV 2/3] END ..................random_state=145;, score=0.871 total time=   3.4s\n",
            "[CV 3/3] END ..................random_state=145;, score=0.875 total time=   3.5s\n",
            "[CV 1/3] END ..................random_state=150;, score=0.868 total time=   3.5s\n",
            "[CV 2/3] END ..................random_state=150;, score=0.870 total time=   3.5s\n",
            "[CV 3/3] END ..................random_state=150;, score=0.876 total time=   3.5s\n",
            "[CV 1/3] END ..................random_state=155;, score=0.868 total time=   3.4s\n",
            "[CV 2/3] END ..................random_state=155;, score=0.870 total time=   3.4s\n",
            "[CV 3/3] END ..................random_state=155;, score=0.875 total time=   3.5s\n",
            "[CV 1/3] END ..................random_state=160;, score=0.867 total time=   3.5s\n",
            "[CV 2/3] END ..................random_state=160;, score=0.870 total time=   3.4s\n",
            "[CV 3/3] END ..................random_state=160;, score=0.877 total time=   3.5s\n",
            "[CV 1/3] END ..................random_state=165;, score=0.869 total time=   3.4s\n",
            "[CV 2/3] END ..................random_state=165;, score=0.870 total time=   3.4s\n",
            "[CV 3/3] END ..................random_state=165;, score=0.876 total time=   3.5s\n",
            "[CV 1/3] END ..................random_state=170;, score=0.869 total time=   3.4s\n",
            "[CV 2/3] END ..................random_state=170;, score=0.869 total time=   3.4s\n",
            "[CV 3/3] END ..................random_state=170;, score=0.875 total time=   3.5s\n",
            "[CV 1/3] END ..................random_state=175;, score=0.868 total time=   3.4s\n",
            "[CV 2/3] END ..................random_state=175;, score=0.870 total time=   3.4s\n",
            "[CV 3/3] END ..................random_state=175;, score=0.875 total time=   3.5s\n",
            "[CV 1/3] END ..................random_state=180;, score=0.868 total time=   3.4s\n",
            "[CV 2/3] END ..................random_state=180;, score=0.870 total time=   3.4s\n",
            "[CV 3/3] END ..................random_state=180;, score=0.876 total time=   3.5s\n",
            "[CV 1/3] END ..................random_state=185;, score=0.867 total time=   3.4s\n",
            "[CV 2/3] END ..................random_state=185;, score=0.868 total time=   3.4s\n",
            "[CV 3/3] END ..................random_state=185;, score=0.875 total time=   3.5s\n",
            "[CV 1/3] END ..................random_state=190;, score=0.867 total time=   3.4s\n",
            "[CV 2/3] END ..................random_state=190;, score=0.869 total time=   3.5s\n",
            "[CV 3/3] END ..................random_state=190;, score=0.876 total time=   3.5s\n",
            "[CV 1/3] END ..................random_state=195;, score=0.867 total time=   3.5s\n",
            "[CV 2/3] END ..................random_state=195;, score=0.870 total time=   3.4s\n",
            "[CV 3/3] END ..................random_state=195;, score=0.877 total time=   3.5s\n",
            "[CV 1/3] END ..................random_state=200;, score=0.868 total time=   3.5s\n",
            "[CV 2/3] END ..................random_state=200;, score=0.869 total time=   3.5s\n",
            "[CV 3/3] END ..................random_state=200;, score=0.876 total time=   3.5s\n",
            "Best random_state: {'n_estimators': 200, 'max_depth': 18, 'min_samples_split': 4, 'min_samples_leaf': 1, 'random_state': 165}\n",
            "Best random_state score: 87.186\n"
          ]
        }
      ],
      "source": [
        "def AutoTuningGrid(X_training, Y_training):\n",
        "\n",
        "    params = {\n",
        "        'n_estimators': list(range(100, 201, 5)),\n",
        "        'max_depth': list(range(10, 21, 2)),\n",
        "        'min_samples_split': list(range(2, 5, 1)),\n",
        "        'min_samples_leaf': list(range(1, 4, 1)),\n",
        "        'random_state': list(range(100, 201, 5))\n",
        "    }\n",
        "\n",
        "    best_param = {\n",
        "        'n_estimators': -1,\n",
        "        'max_depth': -1,\n",
        "        'min_samples_split': -1,\n",
        "        'min_samples_leaf': -1,\n",
        "        'random_state': -1\n",
        "    }\n",
        "\n",
        "    for name, value in params.items():\n",
        "        param_single = {name: value}\n",
        "\n",
        "        result = GridSearchCV (\n",
        "            RandomForestRegressor(),\n",
        "            param_grid=param_single,\n",
        "            scoring='r2',\n",
        "            verbose=4,\n",
        "            cv=3\n",
        "        )\n",
        "\n",
        "        result.fit(X_training, Y_training)\n",
        "        best_param[name] = result.best_params_[name]\n",
        "        best_score = result.best_score_\n",
        "        print(f\"Best {name}: {best_param}\")\n",
        "        print(f'Best {name} score: {round(best_score * 100, 3)}')\n",
        "\n",
        "    return best_param\n",
        "\n",
        "params_grid = AutoTuningGrid(X_training, Y_training)"
      ]
    },
    {
      "cell_type": "markdown",
      "metadata": {
        "id": "QkDzvPCpictJ"
      },
      "source": [
        "### Random Forest"
      ]
    },
    {
      "cell_type": "code",
      "execution_count": 40,
      "metadata": {
        "id": "kSS9MIxeictJ"
      },
      "outputs": [
        {
          "name": "stdout",
          "output_type": "stream",
          "text": [
            "Start building regressor ...\n",
            "[OK] Build Regressor\n",
            "[OK] RandomForest\n"
          ]
        }
      ],
      "source": [
        "\n",
        "def RandomForest(param, autoMode=False):\n",
        "\n",
        "\n",
        "    def RandomForestRegressor_aux(param):\n",
        "        regressor_auto = RandomForestRegressor(\n",
        "            n_estimators=param['n_estimators'],\n",
        "            criterion='friedman_mse',\n",
        "            max_depth=param['max_depth'],\n",
        "            min_samples_split=param['min_samples_split'],\n",
        "            min_samples_leaf=param['min_samples_leaf'],\n",
        "            max_features='sqrt',\n",
        "            random_state=param['random_state'],\n",
        "            n_jobs=-1\n",
        "        )\n",
        "        return regressor_auto\n",
        "    \n",
        "    \n",
        "    print('Start building regressor ...')\n",
        "    if autoMode is True:\n",
        "        regressor = RandomForestRegressor_aux(param)\n",
        "    else:   # manually\n",
        "        regressor = RandomForestRegressor(\n",
        "            n_estimators=131,\n",
        "            criterion='friedman_mse',\n",
        "            max_depth=15,\n",
        "            min_samples_split=2,\n",
        "            min_samples_leaf=3,\n",
        "            max_features='sqrt',\n",
        "            random_state=156,\n",
        "            n_jobs=-1\n",
        "        )\n",
        "    print('[OK] Build Regressor')\n",
        "\n",
        "    regressor.fit(X_training, Y_training)\n",
        "\n",
        "    return regressor\n",
        "\n",
        "regressor = RandomForest(params_grid, autoMode=AUTOMODE)\n",
        "print('[OK] RandomForest')"
      ]
    },
    {
      "cell_type": "markdown",
      "metadata": {},
      "source": [
        "### Make Predictions"
      ]
    },
    {
      "cell_type": "code",
      "execution_count": 46,
      "metadata": {},
      "outputs": [
        {
          "name": "stdout",
          "output_type": "stream",
          "text": [
            "Training Dataset\n",
            "R2 score: 0.95764\n"
          ]
        }
      ],
      "source": [
        "def MakePredictions(testing_dataset, regressor, validation_dataset=None):\n",
        "    predictions = regressor.predict(testing_dataset)\n",
        "\n",
        "    if validation_dataset is not None:\n",
        "        r2 = r2_score(validation_dataset, predictions)\n",
        "        # output scores\n",
        "        print(f'R2 score: {round(r2, 5)}')\n",
        "\n",
        "    return predictions\n",
        "\n",
        "print('Training Dataset')\n",
        "Y_predictions_training = MakePredictions(X_training, regressor, Y_training)"
      ]
    },
    {
      "cell_type": "code",
      "execution_count": 47,
      "metadata": {
        "colab": {
          "base_uri": "https://localhost:8080/"
        },
        "id": "obI5QK3xw-x5",
        "outputId": "1f1bf1d0-6c54-4c4d-d01d-df6f6be25762"
      },
      "outputs": [
        {
          "name": "stdout",
          "output_type": "stream",
          "text": [
            "Validation Dataset\n",
            "R2 score: 0.87179\n",
            "\n",
            "Testing Dataset\n",
            "R2 score: 0.87967\n"
          ]
        }
      ],
      "source": [
        "print('Validation Dataset')\n",
        "Y_predictions_validation = MakePredictions(X_validation, regressor, Y_validation)\n",
        "print()\n",
        "print('Testing Dataset')\n",
        "Y_predictions_testing = MakePredictions(X_testing, regressor, Y_testing)"
      ]
    },
    {
      "cell_type": "code",
      "execution_count": 49,
      "metadata": {},
      "outputs": [
        {
          "data": {
            "image/png": "[encoded data removed]",
            "text/plain": [
              "<Figure size 1000x600 with 1 Axes>"
            ]
          },
          "metadata": {},
          "output_type": "display_data"
        }
      ],
      "source": [
        "def FeatureImportances(df, regressor):\n",
        "    feature_names = df.columns[:-1]\n",
        "    feature_importances = regressor.feature_importances_\n",
        "    feature_importance_df = pd.DataFrame({\n",
        "        'Feature': feature_names,\n",
        "        'Importance': feature_importances\n",
        "    }).sort_values(by='Importance', ascending=True)\n",
        "\n",
        "    plt.figure(figsize=(10, 6))\n",
        "    plt.barh(feature_importance_df['Feature'], feature_importance_df['Importance'])\n",
        "    plt.xlabel('Importance')\n",
        "    plt.title('Feature Importances of Random Forest')\n",
        "    plt.show()\n",
        "\n",
        "FeatureImportances(train_df, regressor)"
      ]
    },
    {
      "cell_type": "markdown",
      "metadata": {},
      "source": []
    }
  ],
  "metadata": {
    "colab": {
      "provenance": []
    },
    "kernelspec": {
      "display_name": "Python 3",
      "language": "python",
      "name": "python3"
    },
    "language_info": {
      "codemirror_mode": {
        "name": "ipython",
        "version": 3
      },
      "file_extension": ".py",
      "mimetype": "text/x-python",
      "name": "python",
      "nbconvert_exporter": "python",
      "pygments_lexer": "ipython3",
      "version": "3.12.0"
    }
  },
  "nbformat": 4,
  "nbformat_minor": 0
}
