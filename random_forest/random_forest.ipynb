{
  "cells": [
    {
      "cell_type": "markdown",
      "metadata": {
        "id": "BBAUHkGnics6"
      },
      "source": [
        "### Import Packages"
      ]
    },
    {
      "cell_type": "code",
      "execution_count": 9,
      "metadata": {
        "id": "Kj-clLA5ictF"
      },
      "outputs": [],
      "source": [
        "import os\n",
        "import numpy as np\n",
        "import pandas as pd\n",
        "\n",
        "from sklearn.impute import SimpleImputer\n",
        "from sklearn.model_selection import train_test_split\n",
        "\n",
        "from sklearn.metrics import accuracy_score\n",
        "from sklearn.metrics import confusion_matrix, precision_score, recall_score, f1_score\n",
        "from sklearn.metrics import mean_absolute_error, mean_squared_error\n",
        "from sklearn.metrics import r2_score\n",
        "\n",
        "from sklearn.tree import DecisionTreeClassifier\n",
        "from sklearn.ensemble import RandomForestClassifier\n",
        "from sklearn import tree\n",
        "from sklearn.model_selection import RandomizedSearchCV\n",
        "\n",
        "from scipy.stats import randint"
      ]
    },
    {
      "cell_type": "markdown",
      "metadata": {
        "id": "cjgDlXkTi27p"
      },
      "source": [
        "### Google Drive (Optional)"
      ]
    },
    {
      "cell_type": "code",
      "execution_count": 10,
      "metadata": {
        "colab": {
          "base_uri": "https://localhost:8080/"
        },
        "id": "hAIXIp9yi62g",
        "outputId": "7e9d8792-2eca-4f0f-841b-b8eac38cc9b9"
      },
      "outputs": [],
      "source": [
        "# from google.colab import drive\n",
        "# drive.mount('/content/drive')"
      ]
    },
    {
      "cell_type": "markdown",
      "metadata": {
        "id": "Yj6YDxqTictG"
      },
      "source": [
        "### Global Variables"
      ]
    },
    {
      "cell_type": "code",
      "execution_count": 11,
      "metadata": {
        "id": "sfa-9IxXictG"
      },
      "outputs": [],
      "source": [
        "AUTOMODE = True\n",
        "\n",
        "file_path = '../data_processing/data-1-year-normalized.csv'\n",
        "df = pd.read_csv(file_path)\n",
        "X_training, X_validation, Y_training, Y_validation = [], [], [], []\n",
        "\n",
        "imputer = SimpleImputer(strategy='mean')   # deal with missing area"
      ]
    },
    {
      "cell_type": "markdown",
      "metadata": {
        "id": "xVNQ3XtzictG"
      },
      "source": [
        "### Get Training and Validation Dataset\n",
        "\n",
        "1. Preprocess data frame, convert all elements to int/float type, deal with NaN value in area column.\n",
        "2. Split data frame into feature set and label set, and then seperate both into training dataset and validation dataset."
      ]
    },
    {
      "cell_type": "code",
      "execution_count": 12,
      "metadata": {
        "id": "2r0Kug_kictH"
      },
      "outputs": [],
      "source": [
        "def DataPreprocessing(df):\n",
        "    # 1.\n",
        "    df = df.apply(pd.to_numeric, errors='coerce')\n",
        "    df['area'] = imputer.fit_transform(df[['area']])\n",
        "\n",
        "    # 2.\n",
        "    features = df.drop('price', axis='columns')\n",
        "    label = df['price']\n",
        "\n",
        "    return train_test_split(features, label, test_size=0.3, random_state=3)"
      ]
    },
    {
      "cell_type": "markdown",
      "metadata": {},
      "source": [
        "### Auto-Tuning"
      ]
    },
    {
      "cell_type": "code",
      "execution_count": 13,
      "metadata": {},
      "outputs": [],
      "source": [
        "def AutoTuning(X_training, Y_training, num_iter):\n",
        "    param = {\n",
        "        'n_estimators': randint(100, 200),\n",
        "        'max_depth': randint(10, 20),\n",
        "        'min_samples_split': randint(2, 5),\n",
        "        'min_samples_leaf': randint(1, 4),\n",
        "        'random_state': randint(100, 200),\n",
        "    }\n",
        "\n",
        "    # automatically search for best parameters and the corresponding score\n",
        "    random_search = RandomizedSearchCV(RandomForestClassifier(), param_distributions=param, n_iter=num_iter, cv=5, scoring='accuracy')\n",
        "    print('Fitting ...')\n",
        "    random_search.fit(X_training, Y_training)\n",
        "    best_param = random_search.best_params_\n",
        "    best_score = random_search.best_score_\n",
        "\n",
        "    return best_param, round(best_score * 100, 3)"
      ]
    },
    {
      "cell_type": "markdown",
      "metadata": {
        "id": "QkDzvPCpictJ"
      },
      "source": [
        "### Random Forest"
      ]
    },
    {
      "cell_type": "code",
      "execution_count": 14,
      "metadata": {
        "id": "kSS9MIxeictJ"
      },
      "outputs": [],
      "source": [
        "\n",
        "def RandomForest(param, autoMode=False):\n",
        "\n",
        "    def RandomForestClassifier_aux(param):\n",
        "        classifier_auto = RandomForestClassifier(\n",
        "            n_estimators=param['n_estimators'],\n",
        "            criterion='entropy',\n",
        "            max_depth=param['max_depth'],\n",
        "            min_samples_split=param['min_samples_split'],\n",
        "            min_samples_leaf=param['min_samples_leaf'],\n",
        "            max_features='sqrt',\n",
        "            class_weight='balanced',\n",
        "            random_state=param['random_state'],\n",
        "            n_jobs=-1\n",
        "        )\n",
        "        return classifier_auto\n",
        "    \n",
        "    print('Start building classifier ...')\n",
        "    if autoMode is True:\n",
        "        classifier = RandomForestClassifier_aux(param)\n",
        "    else:   # 92.391 %\n",
        "        classifier = RandomForestClassifier(\n",
        "            n_estimators=173,\n",
        "            criterion='entropy',\n",
        "            max_depth=15,\n",
        "            min_samples_split=3,\n",
        "            min_samples_leaf=2,\n",
        "            max_features='sqrt',\n",
        "            class_weight='balanced',\n",
        "            random_state=188,\n",
        "            n_jobs=-1\n",
        "        )\n",
        "    print('[OK] Build classifier')\n",
        "\n",
        "    classifier.fit(X_training, Y_training)\n",
        "\n",
        "    return classifier"
      ]
    },
    {
      "cell_type": "markdown",
      "metadata": {},
      "source": [
        "### Make Predictions"
      ]
    },
    {
      "cell_type": "code",
      "execution_count": 15,
      "metadata": {},
      "outputs": [],
      "source": [
        "def MakePredictions(testing_dataset, classifier, validation_dataset=None):\n",
        "    predictions = classifier.predict(testing_dataset)\n",
        "\n",
        "    if validation_dataset is not None:\n",
        "        # Specify the appropriate average parameter based on the multiclass problem\n",
        "        average_type = 'weighted'  # 'micro', 'macro', 'weighted', or None\n",
        "\n",
        "        # classification:\n",
        "        acc = round((accuracy_score(validation_dataset, predictions) * 100), 3)\n",
        "        cm = confusion_matrix(validation_dataset, predictions)\n",
        "        precision = precision_score(validation_dataset, predictions, average=average_type)\n",
        "        recall = recall_score(validation_dataset, predictions, average=average_type)\n",
        "        f1 = f1_score(validation_dataset, predictions, average=average_type)\n",
        "        # regression:\n",
        "        mae = mean_absolute_error(validation_dataset, predictions)\n",
        "        mse = mean_squared_error(validation_dataset, predictions)\n",
        "        r2 = r2_score(validation_dataset, predictions)\n",
        "        # output scores\n",
        "        print(f'Accuracy score: {acc} %')\n",
        "        print(f'Confusion Matrix: {cm}')\n",
        "        print(f'Precision score: {precision}')\n",
        "        print(f'Recall score: {recall}')\n",
        "        print(f'F1 score: {f1}')\n",
        "        print(f'Mean absolute error: {mae}')\n",
        "        print(f'Mean squared error: {mse}')\n",
        "        print(f'R2 score: {r2}')\n",
        "\n",
        "    return predictions"
      ]
    },
    {
      "cell_type": "code",
      "execution_count": 16,
      "metadata": {
        "colab": {
          "base_uri": "https://localhost:8080/"
        },
        "id": "obI5QK3xw-x5",
        "outputId": "1f1bf1d0-6c54-4c4d-d01d-df6f6be25762"
      },
      "outputs": [
        {
          "name": "stdout",
          "output_type": "stream",
          "text": [
            "[OK] DataPreprocessing\n",
            "Fitting ...\n"
          ]
        },
        {
          "name": "stderr",
          "output_type": "stream",
          "text": [
            "/Library/Frameworks/Python.framework/Versions/3.12/lib/python3.12/site-packages/sklearn/model_selection/_split.py:737: UserWarning: The least populated class in y has only 1 members, which is less than n_splits=5.\n",
            "  warnings.warn(\n"
          ]
        },
        {
          "name": "stdout",
          "output_type": "stream",
          "text": [
            "0/4 AutoTuning | Score: 5.053 | Param: {'max_depth': 10, 'min_samples_leaf': 3, 'min_samples_split': 3, 'n_estimators': 196, 'random_state': 194}\n",
            "Fitting ...\n"
          ]
        },
        {
          "name": "stderr",
          "output_type": "stream",
          "text": [
            "/Library/Frameworks/Python.framework/Versions/3.12/lib/python3.12/site-packages/sklearn/model_selection/_split.py:737: UserWarning: The least populated class in y has only 1 members, which is less than n_splits=5.\n",
            "  warnings.warn(\n"
          ]
        },
        {
          "name": "stdout",
          "output_type": "stream",
          "text": [
            "1/4 AutoTuning | Score: 5.053 | Param: {'max_depth': 10, 'min_samples_leaf': 3, 'min_samples_split': 3, 'n_estimators': 196, 'random_state': 194}\n",
            "Fitting ...\n"
          ]
        },
        {
          "name": "stderr",
          "output_type": "stream",
          "text": [
            "/Library/Frameworks/Python.framework/Versions/3.12/lib/python3.12/site-packages/sklearn/model_selection/_split.py:737: UserWarning: The least populated class in y has only 1 members, which is less than n_splits=5.\n",
            "  warnings.warn(\n"
          ]
        },
        {
          "name": "stdout",
          "output_type": "stream",
          "text": [
            "2/4 AutoTuning | Score: 5.053 | Param: {'max_depth': 10, 'min_samples_leaf': 3, 'min_samples_split': 3, 'n_estimators': 196, 'random_state': 194}\n",
            "Fitting ...\n"
          ]
        },
        {
          "name": "stderr",
          "output_type": "stream",
          "text": [
            "/Library/Frameworks/Python.framework/Versions/3.12/lib/python3.12/site-packages/sklearn/model_selection/_split.py:737: UserWarning: The least populated class in y has only 1 members, which is less than n_splits=5.\n",
            "  warnings.warn(\n"
          ]
        },
        {
          "name": "stdout",
          "output_type": "stream",
          "text": [
            "3/4 AutoTuning | Score: 5.053 | Param: {'max_depth': 10, 'min_samples_leaf': 3, 'min_samples_split': 3, 'n_estimators': 196, 'random_state': 194}\n",
            "Fitting ...\n"
          ]
        },
        {
          "name": "stderr",
          "output_type": "stream",
          "text": [
            "/Library/Frameworks/Python.framework/Versions/3.12/lib/python3.12/site-packages/sklearn/model_selection/_split.py:737: UserWarning: The least populated class in y has only 1 members, which is less than n_splits=5.\n",
            "  warnings.warn(\n"
          ]
        },
        {
          "name": "stdout",
          "output_type": "stream",
          "text": [
            "4/4 AutoTuning | Score: 5.106 | Param: {'max_depth': 12, 'min_samples_leaf': 1, 'min_samples_split': 2, 'n_estimators': 181, 'random_state': 112}\n",
            "[OK] AutoTuning\n",
            "Start building classifier ...\n",
            "[OK] Build classifier\n",
            "[OK] RandomForest\n",
            "Accuracy score: 93.457 %\n",
            "Confusion Matrix: [[2 0 0 ... 0 0 0]\n",
            " [0 1 0 ... 0 0 0]\n",
            " [0 0 1 ... 0 0 0]\n",
            " ...\n",
            " [0 0 0 ... 5 0 0]\n",
            " [0 0 0 ... 0 1 0]\n",
            " [0 0 0 ... 0 0 1]]\n",
            "Precision score: 0.9539508716137934\n",
            "Recall score: 0.9345744680851064\n",
            "F1 score: 0.9361072490766535\n",
            "Mean absolute error: 53152.65957446808\n",
            "Mean squared error: 139039315425.53192\n",
            "R2 score: 0.9959387676302401\n",
            "[OK] MakePredictions w/ training dataset\n",
            "[OK] MakePredictions w/ validation dataset\n"
          ]
        },
        {
          "name": "stderr",
          "output_type": "stream",
          "text": [
            "/Library/Frameworks/Python.framework/Versions/3.12/lib/python3.12/site-packages/sklearn/metrics/_classification.py:1471: UndefinedMetricWarning: Precision is ill-defined and being set to 0.0 in labels with no predicted samples. Use `zero_division` parameter to control this behavior.\n",
            "  _warn_prf(average, modifier, msg_start, len(result))\n"
          ]
        }
      ],
      "source": [
        "X_training, X_validation, Y_training, Y_validation = DataPreprocessing(df)\n",
        "print('[OK] DataPreprocessing')\n",
        "\n",
        "final_param = None\n",
        "if AUTOMODE is True:\n",
        "    final_score = -1\n",
        "    for _ in range(5):\n",
        "        auto_param, auto_score = AutoTuning(X_training, Y_training, num_iter=10)\n",
        "        if auto_score > final_score:\n",
        "            final_param, final_score = auto_param, auto_score\n",
        "        print(f'{_}/4 AutoTuning | Score: {final_score} | Param: {final_param}')\n",
        "    print('[OK] AutoTuning')\n",
        "\n",
        "# autoMode = False : 94.3% default\n",
        "classifier = RandomForest(final_param, autoMode=AUTOMODE)\n",
        "print('[OK] RandomForest')\n",
        "\n",
        "Y_predictions_training = MakePredictions(X_training, classifier, Y_training)\n",
        "print('[OK] MakePredictions w/ training dataset')\n",
        "\n",
        "Y_predictions_validation = MakePredictions(X_validation, classifier)\n",
        "print('[OK] MakePredictions w/ validation dataset')"
      ]
    },
    {
      "cell_type": "markdown",
      "metadata": {},
      "source": []
    }
  ],
  "metadata": {
    "colab": {
      "provenance": []
    },
    "kernelspec": {
      "display_name": "Python 3",
      "language": "python",
      "name": "python3"
    },
    "language_info": {
      "codemirror_mode": {
        "name": "ipython",
        "version": 3
      },
      "file_extension": ".py",
      "mimetype": "text/x-python",
      "name": "python",
      "nbconvert_exporter": "python",
      "pygments_lexer": "ipython3",
      "version": "3.12.0"
    }
  },
  "nbformat": 4,
  "nbformat_minor": 0
}
