{
  "cells": [
    {
      "cell_type": "markdown",
      "metadata": {
        "id": "BBAUHkGnics6"
      },
      "source": [
        "### Import Packages"
      ]
    },
    {
      "cell_type": "code",
      "execution_count": 14,
      "metadata": {
        "id": "Kj-clLA5ictF"
      },
      "outputs": [],
      "source": [
        "import os\n",
        "import numpy as np\n",
        "import pandas as pd\n",
        "\n",
        "from scipy.stats import randint\n",
        "from sklearn.impute import SimpleImputer\n",
        "from sklearn.ensemble import RandomForestClassifier\n",
        "from sklearn.model_selection import (\n",
        "    train_test_split,\n",
        "    GridSearchCV,\n",
        "    RandomizedSearchCV )\n",
        "from sklearn.metrics import (\n",
        "    accuracy_score,\n",
        "    r2_score )"
      ]
    },
    {
      "cell_type": "markdown",
      "metadata": {
        "id": "cjgDlXkTi27p"
      },
      "source": [
        "### Google Drive (Optional)"
      ]
    },
    {
      "cell_type": "code",
      "execution_count": 42,
      "metadata": {
        "colab": {
          "base_uri": "https://localhost:8080/"
        },
        "id": "hAIXIp9yi62g",
        "outputId": "7e9d8792-2eca-4f0f-841b-b8eac38cc9b9"
      },
      "outputs": [],
      "source": [
        "# from google.colab import drive\n",
        "# drive.mount('/content/drive')"
      ]
    },
    {
      "cell_type": "markdown",
      "metadata": {
        "id": "Yj6YDxqTictG"
      },
      "source": [
        "### Global Variables"
      ]
    },
    {
      "cell_type": "code",
      "execution_count": 15,
      "metadata": {
        "id": "sfa-9IxXictG"
      },
      "outputs": [],
      "source": [
        "# random into interval\n",
        "# training,validation (early stopping), testing\n",
        "# validation tuning parameters\n",
        "\n",
        "AUTOMODE = True\n",
        "imputer = SimpleImputer(strategy='mean')   # deal with missing area\n",
        "\n",
        "train_file_path = '../data_processing/Final-Processed-Data/Train/train-data-1-year.csv'\n",
        "test_file_path = '../data_processing/Final-Processed-Data/Test/test-data-1-year.csv'\n",
        "train_df = pd.read_csv(train_file_path)\n",
        "test_df = pd.read_csv(test_file_path)\n",
        "\n",
        "X_training, X_validation, Y_training, Y_validation = [], [], [], []"
      ]
    },
    {
      "cell_type": "markdown",
      "metadata": {
        "id": "xVNQ3XtzictG"
      },
      "source": [
        "### Get Training and Validation Dataset\n",
        "- training: train model\n",
        "- validation: early stopping\n",
        "- testing: evaluate model"
      ]
    },
    {
      "cell_type": "code",
      "execution_count": 16,
      "metadata": {
        "id": "2r0Kug_kictH"
      },
      "outputs": [
        {
          "name": "stdout",
          "output_type": "stream",
          "text": [
            "[OK] DataPreprocessing\n",
            "<class 'pandas.core.frame.DataFrame'> (1765, 17)\n",
            "<class 'pandas.core.series.Series'> (1765,)\n",
            "<class 'pandas.core.frame.DataFrame'> (757, 17)\n",
            "<class 'pandas.core.series.Series'> (757,)\n"
          ]
        }
      ],
      "source": [
        "def DataPreprocessing(df):\n",
        "    # Prepocess data frame, convert all elements to int/float type, deal with NaN value in area column.\n",
        "    df = df.apply(pd.to_numeric, errors='coerce')\n",
        "    df['area'] = imputer.fit_transform(df[['area']])\n",
        "\n",
        "    # Split data frame into feature set and label set, then seperate both into training and validation dataset.\n",
        "    features = df.drop('price', axis='columns')\n",
        "    label = df['price']\n",
        "\n",
        "    # split training dataset into training and validation dataset, for early stopping\n",
        "    return train_test_split(features, label, test_size=0.3, random_state=3)\n",
        "\n",
        "X_training, X_validation, Y_training, Y_validation = DataPreprocessing(train_df)\n",
        "print('[OK] DataPreprocessing')\n",
        "print(f'{type(X_training)} {X_training.shape}')\n",
        "print(f'{type(Y_training)} {Y_training.shape}')\n",
        "print(f'{type(X_validation)} {X_validation.shape}')\n",
        "print(f'{type(Y_validation)} {Y_validation.shape}')"
      ]
    },
    {
      "cell_type": "code",
      "execution_count": 17,
      "metadata": {},
      "outputs": [],
      "source": [
        "# parameters\n",
        "learning_rate = 0.001\n",
        "num_iterations = 50\n",
        "rf_parameters = {\n",
        "    'n_estimators': 151,\n",
        "    'criterion': 'entropy',\n",
        "    'max_depth': 15,\n",
        "    'min_samples_split': 2,\n",
        "    'min_samples_leaf': 1,\n",
        "    'max_features': 'sqrt',\n",
        "    'class_weight': 'balanced',\n",
        "    'random_state': 156,\n",
        "    'n_jobs': -1\n",
        "}"
      ]
    },
    {
      "cell_type": "markdown",
      "metadata": {},
      "source": [
        "### Auto-Tuning (Randomized Cross Validation)"
      ]
    },
    {
      "cell_type": "code",
      "execution_count": 30,
      "metadata": {},
      "outputs": [
        {
          "name": "stdout",
          "output_type": "stream",
          "text": [
            "Fitting 24 folds for each of 10 candidates, totalling 240 fits\n"
          ]
        },
        {
          "name": "stderr",
          "output_type": "stream",
          "text": [
            "/Library/Frameworks/Python.framework/Versions/3.12/lib/python3.12/site-packages/sklearn/model_selection/_split.py:737: UserWarning: The least populated class in y has only 1 members, which is less than n_splits=24.\n",
            "  warnings.warn(\n"
          ]
        },
        {
          "name": "stdout",
          "output_type": "stream",
          "text": [
            "[CV 1/24] END max_depth=19, min_samples_leaf=2, min_samples_split=2, n_estimators=102, random_state=175;, score=0.770 total time=   0.7s\n",
            "[CV 2/24] END max_depth=19, min_samples_leaf=2, min_samples_split=2, n_estimators=102, random_state=175;, score=0.737 total time=   0.7s\n",
            "[CV 3/24] END max_depth=19, min_samples_leaf=2, min_samples_split=2, n_estimators=102, random_state=175;, score=0.740 total time=   0.7s\n",
            "[CV 4/24] END max_depth=19, min_samples_leaf=2, min_samples_split=2, n_estimators=102, random_state=175;, score=0.472 total time=   0.7s\n",
            "[CV 5/24] END max_depth=19, min_samples_leaf=2, min_samples_split=2, n_estimators=102, random_state=175;, score=0.602 total time=   0.7s\n",
            "[CV 6/24] END max_depth=19, min_samples_leaf=2, min_samples_split=2, n_estimators=102, random_state=175;, score=0.711 total time=   0.7s\n",
            "[CV 7/24] END max_depth=19, min_samples_leaf=2, min_samples_split=2, n_estimators=102, random_state=175;, score=0.603 total time=   0.7s\n",
            "[CV 8/24] END max_depth=19, min_samples_leaf=2, min_samples_split=2, n_estimators=102, random_state=175;, score=0.810 total time=   0.7s\n",
            "[CV 9/24] END max_depth=19, min_samples_leaf=2, min_samples_split=2, n_estimators=102, random_state=175;, score=0.696 total time=   0.7s\n",
            "[CV 10/24] END max_depth=19, min_samples_leaf=2, min_samples_split=2, n_estimators=102, random_state=175;, score=0.519 total time=   0.7s\n",
            "[CV 11/24] END max_depth=19, min_samples_leaf=2, min_samples_split=2, n_estimators=102, random_state=175;, score=0.752 total time=   0.7s\n",
            "[CV 12/24] END max_depth=19, min_samples_leaf=2, min_samples_split=2, n_estimators=102, random_state=175;, score=0.589 total time=   0.7s\n",
            "[CV 13/24] END max_depth=19, min_samples_leaf=2, min_samples_split=2, n_estimators=102, random_state=175;, score=0.685 total time=   0.7s\n",
            "[CV 14/24] END max_depth=19, min_samples_leaf=2, min_samples_split=2, n_estimators=102, random_state=175;, score=0.635 total time=   0.7s\n",
            "[CV 15/24] END max_depth=19, min_samples_leaf=2, min_samples_split=2, n_estimators=102, random_state=175;, score=0.766 total time=   0.7s\n",
            "[CV 16/24] END max_depth=19, min_samples_leaf=2, min_samples_split=2, n_estimators=102, random_state=175;, score=0.751 total time=   0.7s\n",
            "[CV 17/24] END max_depth=19, min_samples_leaf=2, min_samples_split=2, n_estimators=102, random_state=175;, score=0.538 total time=   0.7s\n",
            "[CV 18/24] END max_depth=19, min_samples_leaf=2, min_samples_split=2, n_estimators=102, random_state=175;, score=0.639 total time=   0.7s\n",
            "[CV 19/24] END max_depth=19, min_samples_leaf=2, min_samples_split=2, n_estimators=102, random_state=175;, score=0.508 total time=   0.7s\n",
            "[CV 20/24] END max_depth=19, min_samples_leaf=2, min_samples_split=2, n_estimators=102, random_state=175;, score=0.752 total time=   0.7s\n",
            "[CV 21/24] END max_depth=19, min_samples_leaf=2, min_samples_split=2, n_estimators=102, random_state=175;, score=0.683 total time=   0.7s\n",
            "[CV 22/24] END max_depth=19, min_samples_leaf=2, min_samples_split=2, n_estimators=102, random_state=175;, score=0.783 total time=   0.7s\n",
            "[CV 23/24] END max_depth=19, min_samples_leaf=2, min_samples_split=2, n_estimators=102, random_state=175;, score=0.672 total time=   0.7s\n",
            "[CV 24/24] END max_depth=19, min_samples_leaf=2, min_samples_split=2, n_estimators=102, random_state=175;, score=0.812 total time=   0.7s\n",
            "[CV 1/24] END max_depth=13, min_samples_leaf=2, min_samples_split=3, n_estimators=179, random_state=121;, score=0.731 total time=   0.9s\n",
            "[CV 2/24] END max_depth=13, min_samples_leaf=2, min_samples_split=3, n_estimators=179, random_state=121;, score=0.638 total time=   0.9s\n",
            "[CV 3/24] END max_depth=13, min_samples_leaf=2, min_samples_split=3, n_estimators=179, random_state=121;, score=0.768 total time=   0.9s\n",
            "[CV 4/24] END max_depth=13, min_samples_leaf=2, min_samples_split=3, n_estimators=179, random_state=121;, score=0.491 total time=   0.9s\n",
            "[CV 5/24] END max_depth=13, min_samples_leaf=2, min_samples_split=3, n_estimators=179, random_state=121;, score=0.693 total time=   0.9s\n",
            "[CV 6/24] END max_depth=13, min_samples_leaf=2, min_samples_split=3, n_estimators=179, random_state=121;, score=0.711 total time=   0.9s\n",
            "[CV 7/24] END max_depth=13, min_samples_leaf=2, min_samples_split=3, n_estimators=179, random_state=121;, score=0.653 total time=   0.9s\n",
            "[CV 8/24] END max_depth=13, min_samples_leaf=2, min_samples_split=3, n_estimators=179, random_state=121;, score=0.736 total time=   0.9s\n",
            "[CV 9/24] END max_depth=13, min_samples_leaf=2, min_samples_split=3, n_estimators=179, random_state=121;, score=0.705 total time=   1.0s\n",
            "[CV 10/24] END max_depth=13, min_samples_leaf=2, min_samples_split=3, n_estimators=179, random_state=121;, score=0.663 total time=   0.9s\n",
            "[CV 11/24] END max_depth=13, min_samples_leaf=2, min_samples_split=3, n_estimators=179, random_state=121;, score=0.794 total time=   0.9s\n",
            "[CV 12/24] END max_depth=13, min_samples_leaf=2, min_samples_split=3, n_estimators=179, random_state=121;, score=0.406 total time=   0.9s\n",
            "[CV 13/24] END max_depth=13, min_samples_leaf=2, min_samples_split=3, n_estimators=179, random_state=121;, score=0.769 total time=   0.9s\n",
            "[CV 14/24] END max_depth=13, min_samples_leaf=2, min_samples_split=3, n_estimators=179, random_state=121;, score=0.593 total time=   0.9s\n",
            "[CV 15/24] END max_depth=13, min_samples_leaf=2, min_samples_split=3, n_estimators=179, random_state=121;, score=0.710 total time=   0.9s\n",
            "[CV 16/24] END max_depth=13, min_samples_leaf=2, min_samples_split=3, n_estimators=179, random_state=121;, score=0.774 total time=   0.9s\n",
            "[CV 17/24] END max_depth=13, min_samples_leaf=2, min_samples_split=3, n_estimators=179, random_state=121;, score=0.674 total time=   0.9s\n",
            "[CV 18/24] END max_depth=13, min_samples_leaf=2, min_samples_split=3, n_estimators=179, random_state=121;, score=0.494 total time=   0.9s\n",
            "[CV 19/24] END max_depth=13, min_samples_leaf=2, min_samples_split=3, n_estimators=179, random_state=121;, score=0.389 total time=   0.9s\n",
            "[CV 20/24] END max_depth=13, min_samples_leaf=2, min_samples_split=3, n_estimators=179, random_state=121;, score=0.791 total time=   0.9s\n",
            "[CV 21/24] END max_depth=13, min_samples_leaf=2, min_samples_split=3, n_estimators=179, random_state=121;, score=0.695 total time=   0.9s\n",
            "[CV 22/24] END max_depth=13, min_samples_leaf=2, min_samples_split=3, n_estimators=179, random_state=121;, score=0.796 total time=   0.9s\n",
            "[CV 23/24] END max_depth=13, min_samples_leaf=2, min_samples_split=3, n_estimators=179, random_state=121;, score=0.594 total time=   0.9s\n",
            "[CV 24/24] END max_depth=13, min_samples_leaf=2, min_samples_split=3, n_estimators=179, random_state=121;, score=0.703 total time=   0.9s\n",
            "[CV 1/24] END max_depth=14, min_samples_leaf=3, min_samples_split=4, n_estimators=110, random_state=197;, score=0.806 total time=   0.5s\n",
            "[CV 2/24] END max_depth=14, min_samples_leaf=3, min_samples_split=4, n_estimators=110, random_state=197;, score=0.697 total time=   0.5s\n",
            "[CV 3/24] END max_depth=14, min_samples_leaf=3, min_samples_split=4, n_estimators=110, random_state=197;, score=0.785 total time=   0.5s\n",
            "[CV 4/24] END max_depth=14, min_samples_leaf=3, min_samples_split=4, n_estimators=110, random_state=197;, score=0.454 total time=   0.5s\n",
            "[CV 5/24] END max_depth=14, min_samples_leaf=3, min_samples_split=4, n_estimators=110, random_state=197;, score=0.721 total time=   0.5s\n",
            "[CV 6/24] END max_depth=14, min_samples_leaf=3, min_samples_split=4, n_estimators=110, random_state=197;, score=0.690 total time=   0.5s\n",
            "[CV 7/24] END max_depth=14, min_samples_leaf=3, min_samples_split=4, n_estimators=110, random_state=197;, score=0.650 total time=   0.5s\n",
            "[CV 8/24] END max_depth=14, min_samples_leaf=3, min_samples_split=4, n_estimators=110, random_state=197;, score=0.751 total time=   0.5s\n",
            "[CV 9/24] END max_depth=14, min_samples_leaf=3, min_samples_split=4, n_estimators=110, random_state=197;, score=0.673 total time=   0.5s\n",
            "[CV 10/24] END max_depth=14, min_samples_leaf=3, min_samples_split=4, n_estimators=110, random_state=197;, score=0.621 total time=   0.5s\n",
            "[CV 11/24] END max_depth=14, min_samples_leaf=3, min_samples_split=4, n_estimators=110, random_state=197;, score=0.845 total time=   0.5s\n",
            "[CV 12/24] END max_depth=14, min_samples_leaf=3, min_samples_split=4, n_estimators=110, random_state=197;, score=0.438 total time=   0.5s\n",
            "[CV 13/24] END max_depth=14, min_samples_leaf=3, min_samples_split=4, n_estimators=110, random_state=197;, score=0.774 total time=   0.5s\n",
            "[CV 14/24] END max_depth=14, min_samples_leaf=3, min_samples_split=4, n_estimators=110, random_state=197;, score=0.712 total time=   0.5s\n",
            "[CV 15/24] END max_depth=14, min_samples_leaf=3, min_samples_split=4, n_estimators=110, random_state=197;, score=0.731 total time=   0.5s\n",
            "[CV 16/24] END max_depth=14, min_samples_leaf=3, min_samples_split=4, n_estimators=110, random_state=197;, score=0.740 total time=   0.5s\n",
            "[CV 17/24] END max_depth=14, min_samples_leaf=3, min_samples_split=4, n_estimators=110, random_state=197;, score=0.630 total time=   0.5s\n",
            "[CV 18/24] END max_depth=14, min_samples_leaf=3, min_samples_split=4, n_estimators=110, random_state=197;, score=0.535 total time=   0.5s\n",
            "[CV 19/24] END max_depth=14, min_samples_leaf=3, min_samples_split=4, n_estimators=110, random_state=197;, score=0.453 total time=   0.6s\n",
            "[CV 20/24] END max_depth=14, min_samples_leaf=3, min_samples_split=4, n_estimators=110, random_state=197;, score=0.688 total time=   0.5s\n",
            "[CV 21/24] END max_depth=14, min_samples_leaf=3, min_samples_split=4, n_estimators=110, random_state=197;, score=0.650 total time=   0.5s\n",
            "[CV 22/24] END max_depth=14, min_samples_leaf=3, min_samples_split=4, n_estimators=110, random_state=197;, score=0.817 total time=   0.5s\n",
            "[CV 23/24] END max_depth=14, min_samples_leaf=3, min_samples_split=4, n_estimators=110, random_state=197;, score=0.639 total time=   0.5s\n",
            "[CV 24/24] END max_depth=14, min_samples_leaf=3, min_samples_split=4, n_estimators=110, random_state=197;, score=0.731 total time=   0.5s\n",
            "[CV 1/24] END max_depth=17, min_samples_leaf=1, min_samples_split=3, n_estimators=142, random_state=179;, score=0.710 total time=   1.2s\n",
            "[CV 2/24] END max_depth=17, min_samples_leaf=1, min_samples_split=3, n_estimators=142, random_state=179;, score=0.571 total time=   1.2s\n",
            "[CV 3/24] END max_depth=17, min_samples_leaf=1, min_samples_split=3, n_estimators=142, random_state=179;, score=0.825 total time=   1.2s\n",
            "[CV 4/24] END max_depth=17, min_samples_leaf=1, min_samples_split=3, n_estimators=142, random_state=179;, score=0.429 total time=   1.2s\n",
            "[CV 5/24] END max_depth=17, min_samples_leaf=1, min_samples_split=3, n_estimators=142, random_state=179;, score=0.683 total time=   1.2s\n",
            "[CV 6/24] END max_depth=17, min_samples_leaf=1, min_samples_split=3, n_estimators=142, random_state=179;, score=0.715 total time=   1.2s\n",
            "[CV 7/24] END max_depth=17, min_samples_leaf=1, min_samples_split=3, n_estimators=142, random_state=179;, score=0.731 total time=   1.2s\n",
            "[CV 8/24] END max_depth=17, min_samples_leaf=1, min_samples_split=3, n_estimators=142, random_state=179;, score=0.783 total time=   1.1s\n",
            "[CV 9/24] END max_depth=17, min_samples_leaf=1, min_samples_split=3, n_estimators=142, random_state=179;, score=0.734 total time=   1.2s\n",
            "[CV 10/24] END max_depth=17, min_samples_leaf=1, min_samples_split=3, n_estimators=142, random_state=179;, score=0.484 total time=   1.1s\n",
            "[CV 11/24] END max_depth=17, min_samples_leaf=1, min_samples_split=3, n_estimators=142, random_state=179;, score=0.748 total time=   1.2s\n",
            "[CV 12/24] END max_depth=17, min_samples_leaf=1, min_samples_split=3, n_estimators=142, random_state=179;, score=0.643 total time=   1.2s\n",
            "[CV 13/24] END max_depth=17, min_samples_leaf=1, min_samples_split=3, n_estimators=142, random_state=179;, score=0.463 total time=   1.2s\n",
            "[CV 14/24] END max_depth=17, min_samples_leaf=1, min_samples_split=3, n_estimators=142, random_state=179;, score=0.672 total time=   1.2s\n",
            "[CV 15/24] END max_depth=17, min_samples_leaf=1, min_samples_split=3, n_estimators=142, random_state=179;, score=0.695 total time=   1.2s\n",
            "[CV 16/24] END max_depth=17, min_samples_leaf=1, min_samples_split=3, n_estimators=142, random_state=179;, score=0.776 total time=   1.2s\n",
            "[CV 17/24] END max_depth=17, min_samples_leaf=1, min_samples_split=3, n_estimators=142, random_state=179;, score=0.549 total time=   1.2s\n",
            "[CV 18/24] END max_depth=17, min_samples_leaf=1, min_samples_split=3, n_estimators=142, random_state=179;, score=0.564 total time=   1.1s\n",
            "[CV 19/24] END max_depth=17, min_samples_leaf=1, min_samples_split=3, n_estimators=142, random_state=179;, score=0.562 total time=   1.2s\n",
            "[CV 20/24] END max_depth=17, min_samples_leaf=1, min_samples_split=3, n_estimators=142, random_state=179;, score=0.778 total time=   1.1s\n",
            "[CV 21/24] END max_depth=17, min_samples_leaf=1, min_samples_split=3, n_estimators=142, random_state=179;, score=0.591 total time=   1.2s\n",
            "[CV 22/24] END max_depth=17, min_samples_leaf=1, min_samples_split=3, n_estimators=142, random_state=179;, score=0.796 total time=   1.2s\n",
            "[CV 23/24] END max_depth=17, min_samples_leaf=1, min_samples_split=3, n_estimators=142, random_state=179;, score=0.591 total time=   1.2s\n",
            "[CV 24/24] END max_depth=17, min_samples_leaf=1, min_samples_split=3, n_estimators=142, random_state=179;, score=0.664 total time=   1.2s\n",
            "[CV 1/24] END max_depth=17, min_samples_leaf=3, min_samples_split=2, n_estimators=165, random_state=191;, score=0.709 total time=   0.8s\n",
            "[CV 2/24] END max_depth=17, min_samples_leaf=3, min_samples_split=2, n_estimators=165, random_state=191;, score=0.707 total time=   0.8s\n",
            "[CV 3/24] END max_depth=17, min_samples_leaf=3, min_samples_split=2, n_estimators=165, random_state=191;, score=0.743 total time=   0.8s\n",
            "[CV 4/24] END max_depth=17, min_samples_leaf=3, min_samples_split=2, n_estimators=165, random_state=191;, score=0.494 total time=   0.9s\n",
            "[CV 5/24] END max_depth=17, min_samples_leaf=3, min_samples_split=2, n_estimators=165, random_state=191;, score=0.719 total time=   0.8s\n",
            "[CV 6/24] END max_depth=17, min_samples_leaf=3, min_samples_split=2, n_estimators=165, random_state=191;, score=0.658 total time=   0.8s\n",
            "[CV 7/24] END max_depth=17, min_samples_leaf=3, min_samples_split=2, n_estimators=165, random_state=191;, score=0.603 total time=   0.8s\n",
            "[CV 8/24] END max_depth=17, min_samples_leaf=3, min_samples_split=2, n_estimators=165, random_state=191;, score=0.757 total time=   0.8s\n",
            "[CV 9/24] END max_depth=17, min_samples_leaf=3, min_samples_split=2, n_estimators=165, random_state=191;, score=0.673 total time=   0.9s\n",
            "[CV 10/24] END max_depth=17, min_samples_leaf=3, min_samples_split=2, n_estimators=165, random_state=191;, score=0.684 total time=   0.9s\n",
            "[CV 11/24] END max_depth=17, min_samples_leaf=3, min_samples_split=2, n_estimators=165, random_state=191;, score=0.810 total time=   0.9s\n",
            "[CV 12/24] END max_depth=17, min_samples_leaf=3, min_samples_split=2, n_estimators=165, random_state=191;, score=0.559 total time=   0.9s\n",
            "[CV 13/24] END max_depth=17, min_samples_leaf=3, min_samples_split=2, n_estimators=165, random_state=191;, score=0.602 total time=   0.8s\n",
            "[CV 14/24] END max_depth=17, min_samples_leaf=3, min_samples_split=2, n_estimators=165, random_state=191;, score=0.637 total time=   0.9s\n",
            "[CV 15/24] END max_depth=17, min_samples_leaf=3, min_samples_split=2, n_estimators=165, random_state=191;, score=0.755 total time=   0.8s\n",
            "[CV 16/24] END max_depth=17, min_samples_leaf=3, min_samples_split=2, n_estimators=165, random_state=191;, score=0.736 total time=   0.9s\n",
            "[CV 17/24] END max_depth=17, min_samples_leaf=3, min_samples_split=2, n_estimators=165, random_state=191;, score=0.558 total time=   0.9s\n",
            "[CV 18/24] END max_depth=17, min_samples_leaf=3, min_samples_split=2, n_estimators=165, random_state=191;, score=0.579 total time=   0.9s\n",
            "[CV 19/24] END max_depth=17, min_samples_leaf=3, min_samples_split=2, n_estimators=165, random_state=191;, score=0.593 total time=   0.9s\n",
            "[CV 20/24] END max_depth=17, min_samples_leaf=3, min_samples_split=2, n_estimators=165, random_state=191;, score=0.774 total time=   0.9s\n",
            "[CV 21/24] END max_depth=17, min_samples_leaf=3, min_samples_split=2, n_estimators=165, random_state=191;, score=0.666 total time=   0.9s\n",
            "[CV 22/24] END max_depth=17, min_samples_leaf=3, min_samples_split=2, n_estimators=165, random_state=191;, score=0.871 total time=   0.9s\n",
            "[CV 23/24] END max_depth=17, min_samples_leaf=3, min_samples_split=2, n_estimators=165, random_state=191;, score=0.601 total time=   0.9s\n",
            "[CV 24/24] END max_depth=17, min_samples_leaf=3, min_samples_split=2, n_estimators=165, random_state=191;, score=0.773 total time=   0.9s\n",
            "[CV 1/24] END max_depth=10, min_samples_leaf=2, min_samples_split=4, n_estimators=188, random_state=109;, score=0.781 total time=   0.8s\n",
            "[CV 2/24] END max_depth=10, min_samples_leaf=2, min_samples_split=4, n_estimators=188, random_state=109;, score=0.672 total time=   0.8s\n",
            "[CV 3/24] END max_depth=10, min_samples_leaf=2, min_samples_split=4, n_estimators=188, random_state=109;, score=0.765 total time=   0.8s\n",
            "[CV 4/24] END max_depth=10, min_samples_leaf=2, min_samples_split=4, n_estimators=188, random_state=109;, score=0.478 total time=   0.8s\n",
            "[CV 5/24] END max_depth=10, min_samples_leaf=2, min_samples_split=4, n_estimators=188, random_state=109;, score=0.625 total time=   0.8s\n",
            "[CV 6/24] END max_depth=10, min_samples_leaf=2, min_samples_split=4, n_estimators=188, random_state=109;, score=0.718 total time=   0.8s\n",
            "[CV 7/24] END max_depth=10, min_samples_leaf=2, min_samples_split=4, n_estimators=188, random_state=109;, score=0.662 total time=   0.8s\n",
            "[CV 8/24] END max_depth=10, min_samples_leaf=2, min_samples_split=4, n_estimators=188, random_state=109;, score=0.656 total time=   0.8s\n",
            "[CV 9/24] END max_depth=10, min_samples_leaf=2, min_samples_split=4, n_estimators=188, random_state=109;, score=0.680 total time=   0.8s\n",
            "[CV 10/24] END max_depth=10, min_samples_leaf=2, min_samples_split=4, n_estimators=188, random_state=109;, score=0.620 total time=   0.8s\n",
            "[CV 11/24] END max_depth=10, min_samples_leaf=2, min_samples_split=4, n_estimators=188, random_state=109;, score=0.812 total time=   0.8s\n",
            "[CV 12/24] END max_depth=10, min_samples_leaf=2, min_samples_split=4, n_estimators=188, random_state=109;, score=0.515 total time=   0.8s\n",
            "[CV 13/24] END max_depth=10, min_samples_leaf=2, min_samples_split=4, n_estimators=188, random_state=109;, score=0.700 total time=   0.8s\n",
            "[CV 14/24] END max_depth=10, min_samples_leaf=2, min_samples_split=4, n_estimators=188, random_state=109;, score=0.703 total time=   0.8s\n",
            "[CV 15/24] END max_depth=10, min_samples_leaf=2, min_samples_split=4, n_estimators=188, random_state=109;, score=0.718 total time=   0.8s\n",
            "[CV 16/24] END max_depth=10, min_samples_leaf=2, min_samples_split=4, n_estimators=188, random_state=109;, score=0.752 total time=   0.8s\n",
            "[CV 17/24] END max_depth=10, min_samples_leaf=2, min_samples_split=4, n_estimators=188, random_state=109;, score=0.675 total time=   0.8s\n",
            "[CV 18/24] END max_depth=10, min_samples_leaf=2, min_samples_split=4, n_estimators=188, random_state=109;, score=0.523 total time=   0.8s\n",
            "[CV 19/24] END max_depth=10, min_samples_leaf=2, min_samples_split=4, n_estimators=188, random_state=109;, score=0.615 total time=   0.8s\n",
            "[CV 20/24] END max_depth=10, min_samples_leaf=2, min_samples_split=4, n_estimators=188, random_state=109;, score=0.688 total time=   0.8s\n",
            "[CV 21/24] END max_depth=10, min_samples_leaf=2, min_samples_split=4, n_estimators=188, random_state=109;, score=0.674 total time=   0.8s\n",
            "[CV 22/24] END max_depth=10, min_samples_leaf=2, min_samples_split=4, n_estimators=188, random_state=109;, score=0.756 total time=   0.8s\n",
            "[CV 23/24] END max_depth=10, min_samples_leaf=2, min_samples_split=4, n_estimators=188, random_state=109;, score=0.668 total time=   0.8s\n",
            "[CV 24/24] END max_depth=10, min_samples_leaf=2, min_samples_split=4, n_estimators=188, random_state=109;, score=0.651 total time=   0.8s\n",
            "[CV 1/24] END max_depth=19, min_samples_leaf=1, min_samples_split=3, n_estimators=181, random_state=172;, score=0.659 total time=   1.6s\n",
            "[CV 2/24] END max_depth=19, min_samples_leaf=1, min_samples_split=3, n_estimators=181, random_state=172;, score=0.643 total time=   1.6s\n",
            "[CV 3/24] END max_depth=19, min_samples_leaf=1, min_samples_split=3, n_estimators=181, random_state=172;, score=0.774 total time=   1.6s\n",
            "[CV 4/24] END max_depth=19, min_samples_leaf=1, min_samples_split=3, n_estimators=181, random_state=172;, score=0.446 total time=   1.6s\n",
            "[CV 5/24] END max_depth=19, min_samples_leaf=1, min_samples_split=3, n_estimators=181, random_state=172;, score=0.716 total time=   1.6s\n",
            "[CV 6/24] END max_depth=19, min_samples_leaf=1, min_samples_split=3, n_estimators=181, random_state=172;, score=0.680 total time=   1.6s\n",
            "[CV 7/24] END max_depth=19, min_samples_leaf=1, min_samples_split=3, n_estimators=181, random_state=172;, score=0.601 total time=   1.6s\n",
            "[CV 8/24] END max_depth=19, min_samples_leaf=1, min_samples_split=3, n_estimators=181, random_state=172;, score=0.797 total time=   1.6s\n",
            "[CV 9/24] END max_depth=19, min_samples_leaf=1, min_samples_split=3, n_estimators=181, random_state=172;, score=0.749 total time=   1.6s\n",
            "[CV 10/24] END max_depth=19, min_samples_leaf=1, min_samples_split=3, n_estimators=181, random_state=172;, score=0.649 total time=   1.6s\n",
            "[CV 11/24] END max_depth=19, min_samples_leaf=1, min_samples_split=3, n_estimators=181, random_state=172;, score=0.802 total time=   1.6s\n",
            "[CV 12/24] END max_depth=19, min_samples_leaf=1, min_samples_split=3, n_estimators=181, random_state=172;, score=0.506 total time=   1.6s\n",
            "[CV 13/24] END max_depth=19, min_samples_leaf=1, min_samples_split=3, n_estimators=181, random_state=172;, score=0.734 total time=   1.6s\n",
            "[CV 14/24] END max_depth=19, min_samples_leaf=1, min_samples_split=3, n_estimators=181, random_state=172;, score=0.656 total time=   1.6s\n",
            "[CV 15/24] END max_depth=19, min_samples_leaf=1, min_samples_split=3, n_estimators=181, random_state=172;, score=0.720 total time=   1.6s\n",
            "[CV 16/24] END max_depth=19, min_samples_leaf=1, min_samples_split=3, n_estimators=181, random_state=172;, score=0.678 total time=   1.6s\n",
            "[CV 17/24] END max_depth=19, min_samples_leaf=1, min_samples_split=3, n_estimators=181, random_state=172;, score=0.434 total time=   1.6s\n",
            "[CV 18/24] END max_depth=19, min_samples_leaf=1, min_samples_split=3, n_estimators=181, random_state=172;, score=0.556 total time=   1.6s\n",
            "[CV 19/24] END max_depth=19, min_samples_leaf=1, min_samples_split=3, n_estimators=181, random_state=172;, score=0.394 total time=   1.6s\n",
            "[CV 20/24] END max_depth=19, min_samples_leaf=1, min_samples_split=3, n_estimators=181, random_state=172;, score=0.734 total time=   1.6s\n",
            "[CV 21/24] END max_depth=19, min_samples_leaf=1, min_samples_split=3, n_estimators=181, random_state=172;, score=0.770 total time=   1.6s\n",
            "[CV 22/24] END max_depth=19, min_samples_leaf=1, min_samples_split=3, n_estimators=181, random_state=172;, score=0.812 total time=   1.6s\n",
            "[CV 23/24] END max_depth=19, min_samples_leaf=1, min_samples_split=3, n_estimators=181, random_state=172;, score=0.555 total time=   1.6s\n",
            "[CV 24/24] END max_depth=19, min_samples_leaf=1, min_samples_split=3, n_estimators=181, random_state=172;, score=0.643 total time=   1.6s\n",
            "[CV 1/24] END max_depth=12, min_samples_leaf=1, min_samples_split=2, n_estimators=161, random_state=141;, score=0.712 total time=   0.9s\n",
            "[CV 2/24] END max_depth=12, min_samples_leaf=1, min_samples_split=2, n_estimators=161, random_state=141;, score=0.697 total time=   0.9s\n",
            "[CV 3/24] END max_depth=12, min_samples_leaf=1, min_samples_split=2, n_estimators=161, random_state=141;, score=0.733 total time=   0.9s\n",
            "[CV 4/24] END max_depth=12, min_samples_leaf=1, min_samples_split=2, n_estimators=161, random_state=141;, score=0.558 total time=   0.9s\n",
            "[CV 5/24] END max_depth=12, min_samples_leaf=1, min_samples_split=2, n_estimators=161, random_state=141;, score=0.666 total time=   0.9s\n",
            "[CV 6/24] END max_depth=12, min_samples_leaf=1, min_samples_split=2, n_estimators=161, random_state=141;, score=0.667 total time=   0.9s\n",
            "[CV 7/24] END max_depth=12, min_samples_leaf=1, min_samples_split=2, n_estimators=161, random_state=141;, score=0.718 total time=   0.9s\n",
            "[CV 8/24] END max_depth=12, min_samples_leaf=1, min_samples_split=2, n_estimators=161, random_state=141;, score=0.802 total time=   0.9s\n",
            "[CV 9/24] END max_depth=12, min_samples_leaf=1, min_samples_split=2, n_estimators=161, random_state=141;, score=0.665 total time=   0.9s\n",
            "[CV 10/24] END max_depth=12, min_samples_leaf=1, min_samples_split=2, n_estimators=161, random_state=141;, score=0.472 total time=   0.9s\n",
            "[CV 11/24] END max_depth=12, min_samples_leaf=1, min_samples_split=2, n_estimators=161, random_state=141;, score=0.780 total time=   0.9s\n",
            "[CV 12/24] END max_depth=12, min_samples_leaf=1, min_samples_split=2, n_estimators=161, random_state=141;, score=0.463 total time=   0.9s\n",
            "[CV 13/24] END max_depth=12, min_samples_leaf=1, min_samples_split=2, n_estimators=161, random_state=141;, score=0.574 total time=   0.9s\n",
            "[CV 14/24] END max_depth=12, min_samples_leaf=1, min_samples_split=2, n_estimators=161, random_state=141;, score=0.701 total time=   0.9s\n",
            "[CV 15/24] END max_depth=12, min_samples_leaf=1, min_samples_split=2, n_estimators=161, random_state=141;, score=0.711 total time=   0.9s\n",
            "[CV 16/24] END max_depth=12, min_samples_leaf=1, min_samples_split=2, n_estimators=161, random_state=141;, score=0.638 total time=   0.9s\n",
            "[CV 17/24] END max_depth=12, min_samples_leaf=1, min_samples_split=2, n_estimators=161, random_state=141;, score=0.597 total time=   0.9s\n",
            "[CV 18/24] END max_depth=12, min_samples_leaf=1, min_samples_split=2, n_estimators=161, random_state=141;, score=0.528 total time=   0.9s\n",
            "[CV 19/24] END max_depth=12, min_samples_leaf=1, min_samples_split=2, n_estimators=161, random_state=141;, score=0.614 total time=   0.9s\n",
            "[CV 20/24] END max_depth=12, min_samples_leaf=1, min_samples_split=2, n_estimators=161, random_state=141;, score=0.743 total time=   0.9s\n",
            "[CV 21/24] END max_depth=12, min_samples_leaf=1, min_samples_split=2, n_estimators=161, random_state=141;, score=0.684 total time=   0.9s\n",
            "[CV 22/24] END max_depth=12, min_samples_leaf=1, min_samples_split=2, n_estimators=161, random_state=141;, score=0.762 total time=   0.9s\n",
            "[CV 23/24] END max_depth=12, min_samples_leaf=1, min_samples_split=2, n_estimators=161, random_state=141;, score=0.641 total time=   0.9s\n",
            "[CV 24/24] END max_depth=12, min_samples_leaf=1, min_samples_split=2, n_estimators=161, random_state=141;, score=0.724 total time=   0.9s\n",
            "[CV 1/24] END max_depth=13, min_samples_leaf=2, min_samples_split=3, n_estimators=159, random_state=136;, score=0.760 total time=   0.8s\n",
            "[CV 2/24] END max_depth=13, min_samples_leaf=2, min_samples_split=3, n_estimators=159, random_state=136;, score=0.588 total time=   0.8s\n",
            "[CV 3/24] END max_depth=13, min_samples_leaf=2, min_samples_split=3, n_estimators=159, random_state=136;, score=0.794 total time=   0.8s\n",
            "[CV 4/24] END max_depth=13, min_samples_leaf=2, min_samples_split=3, n_estimators=159, random_state=136;, score=0.576 total time=   0.8s\n",
            "[CV 5/24] END max_depth=13, min_samples_leaf=2, min_samples_split=3, n_estimators=159, random_state=136;, score=0.671 total time=   0.8s\n",
            "[CV 6/24] END max_depth=13, min_samples_leaf=2, min_samples_split=3, n_estimators=159, random_state=136;, score=0.722 total time=   0.8s\n",
            "[CV 7/24] END max_depth=13, min_samples_leaf=2, min_samples_split=3, n_estimators=159, random_state=136;, score=0.702 total time=   0.8s\n",
            "[CV 8/24] END max_depth=13, min_samples_leaf=2, min_samples_split=3, n_estimators=159, random_state=136;, score=0.749 total time=   0.8s\n",
            "[CV 9/24] END max_depth=13, min_samples_leaf=2, min_samples_split=3, n_estimators=159, random_state=136;, score=0.752 total time=   0.8s\n",
            "[CV 10/24] END max_depth=13, min_samples_leaf=2, min_samples_split=3, n_estimators=159, random_state=136;, score=0.690 total time=   0.8s\n",
            "[CV 11/24] END max_depth=13, min_samples_leaf=2, min_samples_split=3, n_estimators=159, random_state=136;, score=0.803 total time=   0.8s\n",
            "[CV 12/24] END max_depth=13, min_samples_leaf=2, min_samples_split=3, n_estimators=159, random_state=136;, score=0.541 total time=   0.8s\n",
            "[CV 13/24] END max_depth=13, min_samples_leaf=2, min_samples_split=3, n_estimators=159, random_state=136;, score=0.638 total time=   0.8s\n",
            "[CV 14/24] END max_depth=13, min_samples_leaf=2, min_samples_split=3, n_estimators=159, random_state=136;, score=0.655 total time=   0.8s\n",
            "[CV 15/24] END max_depth=13, min_samples_leaf=2, min_samples_split=3, n_estimators=159, random_state=136;, score=0.748 total time=   0.8s\n",
            "[CV 16/24] END max_depth=13, min_samples_leaf=2, min_samples_split=3, n_estimators=159, random_state=136;, score=0.732 total time=   0.8s\n",
            "[CV 17/24] END max_depth=13, min_samples_leaf=2, min_samples_split=3, n_estimators=159, random_state=136;, score=0.583 total time=   0.8s\n",
            "[CV 18/24] END max_depth=13, min_samples_leaf=2, min_samples_split=3, n_estimators=159, random_state=136;, score=0.626 total time=   0.8s\n",
            "[CV 19/24] END max_depth=13, min_samples_leaf=2, min_samples_split=3, n_estimators=159, random_state=136;, score=0.707 total time=   0.8s\n",
            "[CV 20/24] END max_depth=13, min_samples_leaf=2, min_samples_split=3, n_estimators=159, random_state=136;, score=0.709 total time=   0.8s\n",
            "[CV 21/24] END max_depth=13, min_samples_leaf=2, min_samples_split=3, n_estimators=159, random_state=136;, score=0.645 total time=   0.9s\n",
            "[CV 22/24] END max_depth=13, min_samples_leaf=2, min_samples_split=3, n_estimators=159, random_state=136;, score=0.732 total time=   0.8s\n",
            "[CV 23/24] END max_depth=13, min_samples_leaf=2, min_samples_split=3, n_estimators=159, random_state=136;, score=0.583 total time=   0.8s\n",
            "[CV 24/24] END max_depth=13, min_samples_leaf=2, min_samples_split=3, n_estimators=159, random_state=136;, score=0.651 total time=   0.8s\n",
            "[CV 1/24] END max_depth=15, min_samples_leaf=1, min_samples_split=2, n_estimators=183, random_state=111;, score=0.712 total time=   1.4s\n",
            "[CV 2/24] END max_depth=15, min_samples_leaf=1, min_samples_split=2, n_estimators=183, random_state=111;, score=0.515 total time=   1.5s\n",
            "[CV 3/24] END max_depth=15, min_samples_leaf=1, min_samples_split=2, n_estimators=183, random_state=111;, score=0.726 total time=   1.4s\n",
            "[CV 4/24] END max_depth=15, min_samples_leaf=1, min_samples_split=2, n_estimators=183, random_state=111;, score=0.563 total time=   1.4s\n",
            "[CV 5/24] END max_depth=15, min_samples_leaf=1, min_samples_split=2, n_estimators=183, random_state=111;, score=0.663 total time=   1.4s\n",
            "[CV 6/24] END max_depth=15, min_samples_leaf=1, min_samples_split=2, n_estimators=183, random_state=111;, score=0.715 total time=   1.4s\n",
            "[CV 7/24] END max_depth=15, min_samples_leaf=1, min_samples_split=2, n_estimators=183, random_state=111;, score=0.620 total time=   1.4s\n",
            "[CV 8/24] END max_depth=15, min_samples_leaf=1, min_samples_split=2, n_estimators=183, random_state=111;, score=0.772 total time=   1.4s\n",
            "[CV 9/24] END max_depth=15, min_samples_leaf=1, min_samples_split=2, n_estimators=183, random_state=111;, score=0.756 total time=   1.4s\n",
            "[CV 10/24] END max_depth=15, min_samples_leaf=1, min_samples_split=2, n_estimators=183, random_state=111;, score=0.575 total time=   1.4s\n",
            "[CV 11/24] END max_depth=15, min_samples_leaf=1, min_samples_split=2, n_estimators=183, random_state=111;, score=0.762 total time=   1.4s\n",
            "[CV 12/24] END max_depth=15, min_samples_leaf=1, min_samples_split=2, n_estimators=183, random_state=111;, score=0.541 total time=   1.4s\n",
            "[CV 13/24] END max_depth=15, min_samples_leaf=1, min_samples_split=2, n_estimators=183, random_state=111;, score=0.582 total time=   1.4s\n",
            "[CV 14/24] END max_depth=15, min_samples_leaf=1, min_samples_split=2, n_estimators=183, random_state=111;, score=0.652 total time=   1.4s\n",
            "[CV 15/24] END max_depth=15, min_samples_leaf=1, min_samples_split=2, n_estimators=183, random_state=111;, score=0.729 total time=   1.4s\n",
            "[CV 16/24] END max_depth=15, min_samples_leaf=1, min_samples_split=2, n_estimators=183, random_state=111;, score=0.773 total time=   1.4s\n",
            "[CV 17/24] END max_depth=15, min_samples_leaf=1, min_samples_split=2, n_estimators=183, random_state=111;, score=0.592 total time=   1.4s\n",
            "[CV 18/24] END max_depth=15, min_samples_leaf=1, min_samples_split=2, n_estimators=183, random_state=111;, score=0.541 total time=   1.4s\n",
            "[CV 19/24] END max_depth=15, min_samples_leaf=1, min_samples_split=2, n_estimators=183, random_state=111;, score=0.437 total time=   1.4s\n",
            "[CV 20/24] END max_depth=15, min_samples_leaf=1, min_samples_split=2, n_estimators=183, random_state=111;, score=0.837 total time=   1.4s\n",
            "[CV 21/24] END max_depth=15, min_samples_leaf=1, min_samples_split=2, n_estimators=183, random_state=111;, score=0.711 total time=   1.4s\n",
            "[CV 22/24] END max_depth=15, min_samples_leaf=1, min_samples_split=2, n_estimators=183, random_state=111;, score=0.777 total time=   1.5s\n",
            "[CV 23/24] END max_depth=15, min_samples_leaf=1, min_samples_split=2, n_estimators=183, random_state=111;, score=0.635 total time=   1.4s\n",
            "[CV 24/24] END max_depth=15, min_samples_leaf=1, min_samples_split=2, n_estimators=183, random_state=111;, score=0.690 total time=   1.4s\n",
            "Best param in rCV: {'max_depth': 13, 'min_samples_leaf': 2, 'min_samples_split': 3, 'n_estimators': 159, 'random_state': 136}\n",
            "Best score in rCV: 68.151\n"
          ]
        }
      ],
      "source": [
        "def AutoTuningRandomized(X_training, Y_training):\n",
        "    param = {\n",
        "        'n_estimators': randint(100, 200),\n",
        "        'max_depth': randint(10, 20),\n",
        "        'min_samples_split': randint(2, 5),\n",
        "        'min_samples_leaf': randint(1, 4),\n",
        "        'random_state': randint(100, 200),\n",
        "    }\n",
        "\n",
        "    # automatically search for best parameters and the corresponding score\n",
        "    result = RandomizedSearchCV (\n",
        "        RandomForestClassifier(),\n",
        "        param_distributions=param,\n",
        "        scoring='r2',\n",
        "        verbose=4,\n",
        "        cv=24\n",
        "    )\n",
        "\n",
        "    result.fit(X_training, Y_training)\n",
        "    best_param = result.best_params_\n",
        "    best_score = result.best_score_\n",
        "    print(f'Best param in rCV: {best_param}')\n",
        "    print(f'Best score in rCV: {round(best_score * 100, 3)}')\n",
        "\n",
        "    return best_param\n",
        "\n",
        "params_randomized = AutoTuningRandomized(X_training, Y_training)"
      ]
    },
    {
      "cell_type": "markdown",
      "metadata": {},
      "source": [
        "### Auto-Tuning (Grid Cross Validation)"
      ]
    },
    {
      "cell_type": "code",
      "execution_count": null,
      "metadata": {},
      "outputs": [],
      "source": [
        "def AutoTuningGrid(X_training, Y_training):\n",
        "    params = {\n",
        "        'n_estimators': list(range(100, 201, 5)),\n",
        "        'max_depth': list(range(10, 21, 2)),\n",
        "        'min_samples_split': list(range(2, 5, 1)),\n",
        "        'min_samples_leaf': list(range(1, 4, 1)),\n",
        "        'random_state': list(range(100, 201, 5))\n",
        "    }\n",
        "\n",
        "    result = GridSearchCV (\n",
        "        RandomForestClassifier(),\n",
        "        param_grid=params,\n",
        "        scoring='r2',\n",
        "        verbose=4,\n",
        "        cv=3\n",
        "    )\n",
        "\n",
        "    result.fit(X_training, Y_training)\n",
        "    best_param = result.best_params_\n",
        "    best_score = result.best_score_\n",
        "    print(f'Best param in gCV: {best_param}')\n",
        "    print(f'Best score in gCV: {round(best_score * 100, 3)}')\n",
        "\n",
        "    return best_param\n",
        "\n",
        "params_grid = AutoTuningGrid(X_training, Y_training)"
      ]
    },
    {
      "cell_type": "markdown",
      "metadata": {
        "id": "QkDzvPCpictJ"
      },
      "source": [
        "### Random Forest"
      ]
    },
    {
      "cell_type": "code",
      "execution_count": 46,
      "metadata": {
        "id": "kSS9MIxeictJ"
      },
      "outputs": [],
      "source": [
        "\n",
        "def RandomForest(param, autoMode=False):\n",
        "\n",
        "    def RandomForestClassifier_aux(param):\n",
        "        classifier_auto = RandomForestClassifier(\n",
        "            n_estimators=param['n_estimators'],\n",
        "            criterion='entropy',\n",
        "            max_depth=param['max_depth'],\n",
        "            min_samples_split=param['min_samples_split'],\n",
        "            min_samples_leaf=param['min_samples_leaf'],\n",
        "            max_features='sqrt',\n",
        "            class_weight='balanced',\n",
        "            random_state=param['random_state'],\n",
        "            n_jobs=-1\n",
        "        )\n",
        "        return classifier_auto\n",
        "    \n",
        "    print('Start building classifier ...')\n",
        "    if autoMode is True:\n",
        "        classifier = RandomForestClassifier_aux(param)\n",
        "    else:   # 92.391 %\n",
        "        classifier = RandomForestClassifier(\n",
        "            n_estimators=131,\n",
        "            criterion='entropy',\n",
        "            max_depth=15,\n",
        "            min_samples_split=2,\n",
        "            min_samples_leaf=3,\n",
        "            max_features='sqrt',\n",
        "            class_weight='balanced',\n",
        "            random_state=156,\n",
        "            n_jobs=-1\n",
        "        )\n",
        "    print('[OK] Build classifier')\n",
        "\n",
        "    classifier.fit(X_training, Y_training)\n",
        "\n",
        "    return classifier"
      ]
    },
    {
      "cell_type": "markdown",
      "metadata": {},
      "source": [
        "### Make Predictions"
      ]
    },
    {
      "cell_type": "code",
      "execution_count": 47,
      "metadata": {},
      "outputs": [],
      "source": [
        "def MakePredictions(testing_dataset, classifier, validation_dataset=None):\n",
        "    predictions = classifier.predict(testing_dataset)\n",
        "\n",
        "    if validation_dataset is not None:\n",
        "        # Specify the appropriate average parameter based on the multiclass problem\n",
        "        average_type = 'weighted'  # 'micro', 'macro', 'weighted', or None\n",
        "        acc = round((accuracy_score(validation_dataset, predictions) * 100), 3)\n",
        "        r2 = r2_score(validation_dataset, predictions)\n",
        "        # output scores\n",
        "        print(f'Accuracy score: {acc} %')\n",
        "        print(f'R2 score: {r2}')\n",
        "\n",
        "    return predictions"
      ]
    },
    {
      "cell_type": "code",
      "execution_count": 48,
      "metadata": {
        "colab": {
          "base_uri": "https://localhost:8080/"
        },
        "id": "obI5QK3xw-x5",
        "outputId": "1f1bf1d0-6c54-4c4d-d01d-df6f6be25762"
      },
      "outputs": [
        {
          "name": "stdout",
          "output_type": "stream",
          "text": [
            "[OK] DataPreprocessing\n",
            "Start building classifier ...\n",
            "[OK] Build classifier\n",
            "[OK] RandomForest\n",
            "Accuracy score: 41.529 %\n",
            "R2 score: 0.908331261556717\n",
            "[OK] MakePredictions w/ training dataset\n",
            "[OK] MakePredictions w/ validation dataset\n"
          ]
        }
      ],
      "source": [
        "# autoMode = False : 94.3% default\n",
        "classifier = RandomForest(params_randomized, autoMode=AUTOMODE)\n",
        "print('[OK] RandomForest')\n",
        "\n",
        "Y_predictions_training = MakePredictions(X_training, classifier, Y_training)\n",
        "print('[OK] MakePredictions w/ training dataset')\n",
        "\n",
        "Y_predictions_validation = MakePredictions(X_validation, classifier)\n",
        "print('[OK] MakePredictions w/ validation dataset')"
      ]
    },
    {
      "cell_type": "markdown",
      "metadata": {},
      "source": []
    }
  ],
  "metadata": {
    "colab": {
      "provenance": []
    },
    "kernelspec": {
      "display_name": "Python 3",
      "language": "python",
      "name": "python3"
    },
    "language_info": {
      "codemirror_mode": {
        "name": "ipython",
        "version": 3
      },
      "file_extension": ".py",
      "mimetype": "text/x-python",
      "name": "python",
      "nbconvert_exporter": "python",
      "pygments_lexer": "ipython3",
      "version": "3.12.0"
    }
  },
  "nbformat": 4,
  "nbformat_minor": 0
}
