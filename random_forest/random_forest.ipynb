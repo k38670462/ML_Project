{
  "cells": [
    {
      "cell_type": "markdown",
      "metadata": {
        "id": "BBAUHkGnics6"
      },
      "source": [
        "### Import Packages"
      ]
    },
    {
      "cell_type": "code",
      "execution_count": 12,
      "metadata": {
        "id": "Kj-clLA5ictF"
      },
      "outputs": [],
      "source": [
        "import os\n",
        "import numpy as np\n",
        "import pandas as pd\n",
        "from sklearn.impute import SimpleImputer\n",
        "from sklearn.model_selection import train_test_split\n",
        "from sklearn.metrics import accuracy_score\n",
        "from sklearn.tree import DecisionTreeClassifier\n",
        "from sklearn.ensemble import RandomForestClassifier\n",
        "from sklearn import tree\n",
        "from sklearn.model_selection import RandomizedSearchCV\n",
        "from scipy.stats import randint"
      ]
    },
    {
      "cell_type": "markdown",
      "metadata": {
        "id": "cjgDlXkTi27p"
      },
      "source": [
        "### Google Drive (Optional)"
      ]
    },
    {
      "cell_type": "code",
      "execution_count": 13,
      "metadata": {
        "colab": {
          "base_uri": "https://localhost:8080/"
        },
        "id": "hAIXIp9yi62g",
        "outputId": "7e9d8792-2eca-4f0f-841b-b8eac38cc9b9"
      },
      "outputs": [],
      "source": [
        "# from google.colab import drive\n",
        "# drive.mount('/content/drive')"
      ]
    },
    {
      "cell_type": "markdown",
      "metadata": {
        "id": "Yj6YDxqTictG"
      },
      "source": [
        "### Global Variables"
      ]
    },
    {
      "cell_type": "code",
      "execution_count": 14,
      "metadata": {
        "id": "sfa-9IxXictG"
      },
      "outputs": [],
      "source": [
        "DEBUGMODE = True\n",
        "AUTOMODE = True\n",
        "\n",
        "file_path = '../data_processing/data-1-year.csv'\n",
        "df = pd.read_csv(file_path)\n",
        "X_training, X_validation, Y_training, Y_validation = [], [], [], []\n",
        "\n",
        "imputer = SimpleImputer(strategy='mean')   # deal with missing area"
      ]
    },
    {
      "cell_type": "markdown",
      "metadata": {
        "id": "xVNQ3XtzictG"
      },
      "source": [
        "### Get Training and Validation Dataset\n",
        "\n",
        "1. Preprocess data frame, convert all elements to int/float type, deal with NaN value in area column.\n",
        "2. Split data frame into feature set and label set, and then seperate both into training dataset and validation dataset."
      ]
    },
    {
      "cell_type": "code",
      "execution_count": 15,
      "metadata": {
        "id": "2r0Kug_kictH"
      },
      "outputs": [],
      "source": [
        "def DataPreprocessing(df):\n",
        "    # 1.\n",
        "    df = df.apply(pd.to_numeric, errors='coerce')\n",
        "    df['area'] = imputer.fit_transform(df[['area']])\n",
        "    # if DEBUGMODE:\n",
        "    #     df.info()\n",
        "\n",
        "    # 2.\n",
        "    features = df.drop('price', axis='columns')\n",
        "    label = df['price']\n",
        "\n",
        "    return train_test_split(features, label, test_size=0.1, random_state=5)"
      ]
    },
    {
      "cell_type": "markdown",
      "metadata": {},
      "source": [
        "### Auto-Tuning"
      ]
    },
    {
      "cell_type": "code",
      "execution_count": 16,
      "metadata": {},
      "outputs": [],
      "source": [
        "def AutoTuning(X_training, Y_training, num_iter):\n",
        "    param = {\n",
        "        'n_estimators': randint(100, 200),\n",
        "        'max_depth': randint(10, 20),\n",
        "        'min_samples_split': randint(2, 5),\n",
        "        'min_samples_leaf': randint(1, 4),\n",
        "        'random_state': randint(100, 200),\n",
        "    }\n",
        "\n",
        "    # automatically search for best parameters and the corresponding score\n",
        "    random_search = RandomizedSearchCV(RandomForestClassifier(), param_distributions=param, n_iter=num_iter, cv=5, scoring='accuracy')\n",
        "    print('[ ] Fitting ...')\n",
        "    random_search.fit(X_training, Y_training)\n",
        "    best_param = random_search.best_params_\n",
        "    best_score = random_search.best_score_\n",
        "\n",
        "    return best_param, round(best_score * 100, 3)"
      ]
    },
    {
      "cell_type": "markdown",
      "metadata": {
        "id": "QkDzvPCpictJ"
      },
      "source": [
        "### Random Forest"
      ]
    },
    {
      "cell_type": "code",
      "execution_count": 17,
      "metadata": {
        "id": "kSS9MIxeictJ"
      },
      "outputs": [],
      "source": [
        "\n",
        "def RandomForest(param, autoMode=False):\n",
        "\n",
        "    def RandomForestClassifier_aux(param):\n",
        "        classifier_auto = RandomForestClassifier(\n",
        "            n_estimators=param['n_estimators'],\n",
        "            criterion='entropy',\n",
        "            max_depth=param['max_depth'],\n",
        "            min_samples_split=param['min_samples_split'],\n",
        "            min_samples_leaf=param['min_samples_leaf'],\n",
        "            max_features='sqrt',\n",
        "            class_weight='balanced',\n",
        "            random_state=param['random_state'],\n",
        "            n_jobs=-1\n",
        "        )\n",
        "        return classifier_auto\n",
        "    \n",
        "    print('[ ] Start building classifier ...')\n",
        "    if autoMode is True:\n",
        "        classifier = RandomForestClassifier_aux(param)\n",
        "    else:   # 92.391 %\n",
        "        classifier = RandomForestClassifier(\n",
        "            n_estimators=102,\n",
        "            criterion='entropy',\n",
        "            max_depth=16,\n",
        "            min_samples_split=3,\n",
        "            min_samples_leaf=3,\n",
        "            max_features='sqrt',\n",
        "            class_weight='balanced',\n",
        "            random_state=195,\n",
        "            n_jobs=-1\n",
        "        )\n",
        "    print('[OK] Build classifier')\n",
        "\n",
        "    classifier.fit(X_training, Y_training)\n",
        "\n",
        "    return classifier"
      ]
    },
    {
      "cell_type": "markdown",
      "metadata": {},
      "source": [
        "### Make Predictions"
      ]
    },
    {
      "cell_type": "code",
      "execution_count": 18,
      "metadata": {},
      "outputs": [],
      "source": [
        "def MakePredictions(testing_dataset, classifier):\n",
        "    return classifier.predict(testing_dataset)"
      ]
    },
    {
      "cell_type": "code",
      "execution_count": 19,
      "metadata": {
        "colab": {
          "base_uri": "https://localhost:8080/"
        },
        "id": "obI5QK3xw-x5",
        "outputId": "1f1bf1d0-6c54-4c4d-d01d-df6f6be25762"
      },
      "outputs": [
        {
          "name": "stdout",
          "output_type": "stream",
          "text": [
            "[OK] DataPreprocessing\n",
            "[ ] Fitting ...\n"
          ]
        },
        {
          "name": "stderr",
          "output_type": "stream",
          "text": [
            "/Library/Frameworks/Python.framework/Versions/3.12/lib/python3.12/site-packages/sklearn/model_selection/_split.py:737: UserWarning: The least populated class in y has only 1 members, which is less than n_splits=5.\n",
            "  warnings.warn(\n"
          ]
        }
      ],
      "source": [
        "X_training, X_validation, Y_training, Y_validation = DataPreprocessing(df)\n",
        "print('[OK] DataPreprocessing')\n",
        "\n",
        "if AUTOMODE is True:\n",
        "    final_score = -1\n",
        "    for _ in range(5):\n",
        "        auto_param, auto_score = AutoTuning(X_training, Y_training, num_iter=500)\n",
        "        if auto_score > final_score:\n",
        "            final_param, final_score = auto_param, auto_score\n",
        "        print(f'{_}/4 AutoTuning | Score: {final_score} | Param: {final_param}')\n",
        "    print('[OK] AutoTuning')\n",
        "\n",
        "# autoMode = False : 94.3% default\n",
        "classifier = RandomForest(final_param, autoMode=AUTOMODE)\n",
        "print('[OK] RandomForest')\n",
        "\n",
        "Y_predictions_training = MakePredictions(X_training, classifier)\n",
        "acc_training = round((accuracy_score(Y_training, Y_predictions_training) * 100), 3)\n",
        "print('[OK] MakePredictions w/ training dataset')\n",
        "\n",
        "Y_predictions_validation = MakePredictions(X_validation, classifier)\n",
        "acc_validation = round((accuracy_score(Y_validation, Y_predictions_validation) * 100), 3)\n",
        "print('[OK] MakePredictions w/ validation dataset')\n",
        "\n",
        "if DEBUGMODE:\n",
        "    print(f'Training Accuracy: {acc_training} %')\n",
        "    print(f'Validation Accuracy: {acc_validation} %')"
      ]
    },
    {
      "cell_type": "markdown",
      "metadata": {},
      "source": [
        "[TODO] log param and score, overfitting problem"
      ]
    },
    {
      "cell_type": "markdown",
      "metadata": {},
      "source": []
    }
  ],
  "metadata": {
    "colab": {
      "provenance": []
    },
    "kernelspec": {
      "display_name": "Python 3",
      "language": "python",
      "name": "python3"
    },
    "language_info": {
      "codemirror_mode": {
        "name": "ipython",
        "version": 3
      },
      "file_extension": ".py",
      "mimetype": "text/x-python",
      "name": "python",
      "nbconvert_exporter": "python",
      "pygments_lexer": "ipython3",
      "version": "3.12.0"
    }
  },
  "nbformat": 4,
  "nbformat_minor": 0
}
