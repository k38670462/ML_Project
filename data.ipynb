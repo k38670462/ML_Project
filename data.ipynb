{
 "cells": [
  {
   "cell_type": "markdown",
   "metadata": {},
   "source": [
    "### Crawler"
   ]
  },
  {
   "cell_type": "code",
   "execution_count": 181,
   "metadata": {},
   "outputs": [
    {
     "name": "stdout",
     "output_type": "stream",
     "text": [
      "begin\n",
      "finish\n"
     ]
    }
   ],
   "source": [
    "import pandas as pd\n",
    "import requests\n",
    "import numpy as np\n",
    "import cn2an\n",
    "# api\n",
    "\n",
    "# 10 years\n",
    "# url = \"https://lvr.land.moi.gov.tw/SERVICE/QueryPrice/dc49f7b019067380c74fb4732b037dea?q=VTJGc2RHVmtYMStzQTFVTENVdzNnZ3VpMlBPTVp6OTBYUFNiSStKZ2VLbWhNSngvd3NPUWZlTHQ1VytQMnlZMGo2ZzgxVVR1bDFjRjdEcXc0TnNXdTM3c2F1d2lJN2hhUXJzQVYzbzNydnZWdnA5SmZieWpFUllBOVVuVXFBNHNHZURic3NmMnlaVmp1UWszVjhUY1E1VVorbEhCdjVHUmJtZG9qdFZ1NThSL1NySXNib3Y5YlVEN2Q3N3dyTTRGOTNKalZsQm5hcXdmV2xHYWM0eVo1cVgrdWxRSXdQZHJwOWpDbllYbUZGN3NqS0xmZTIvZ0J3c1BFajdHTWQzdkNzWkFFQ2JGSXJDNWRJdW1UVDZLYkd0TXJvK0JEWFlwcHlwWEd5ZWZEajNoY0IrMjFWd3ZzRG9qU1dNS0JENFlXOHhHN3dmbmxBYkdmWUliZ0NNbFFBWFJZcWtXSDBsZEZnL2NzeENwWStlaW9hMnJ3UDFGU0dQcWljeVdGUGI3L1hGVmdVNkpBZVJ0QVdqVG5paVRDQ3cyekx3V1ordGZVR2xRbXQ0VVpaZXoyTGJQZDBlVDI4UzhjSm9oV2N4YWxrM0ZnaGFyMFkyMzlQeDJqVzZxTzdyelAyTG1oTklIVVBZanJMcE10ZGZRNTd4cDZORDJVWldrdzNtdW1yRERYMTM3S2tpU1VTWVVjKzR3akRGSTFJMC84YkI1NFpwWGxOTWZJRllhOTJaUlFGK3RJQ1hyeTYrZU9ldVVDWE0wVTJVWUZKRHk1N20zU2xKR3hRVVp3MG1qSFk1RG9pQzY5VDc3N3dNOC9PRlZmMVFZcm04eGQ1NjZuZmYvWnpzZnRkOXQ5Qkhjbno2djV2TW10UjRucld4YW5wRHRaVlB1SmdCWUNUS0tmZkxMYk44WXZYVnZvNFkxTTh3bXk4b3hscEVRY3JtU0lOYjFEYnZ2WFhFVHNWR3FVYjRiOE03bmZzYzZNZldqRUxVPQ==\"\n",
    "# 1 year\n",
    "url = \"https://lvr.land.moi.gov.tw/SERVICE/QueryPrice/fe810aa29f305b7dce1e6271556bdbf1?q=VTJGc2RHVmtYMTg2Tmo2TDdZUktQcUwyT3p5TEdYRU9HdUJBSFFNQzRhaXJvNlVzYmFQd052dndYR1A0c1lOVE5ZVUxGU2tyRU5WWC9yVnB2U0R1bGg4YlFCdnlhSWNuL3p1SUdjakxUaFJ5Vk1mV2kzSm04QU03V0FISmdzYXVoYUUvaS9pcGY3Q3NMWXpTN0tubzhXc1g4VGY0QmRiN3A5dUthSHhlNlhwQ0VIdStLaFA5aUJvNWkxWjYxaU52cXZ2cjY1aDhheG9FUitxOFdGSzlxQjE0OEdPeTdCTmVHRCswZUhnOElxZ0Z0dGIxVExqSTNMYjBTRVN2VGdacXk0MS9sQnlzaG0vQWo1eXdWNkZrN0Q2b2ViTTZUWmVaZWh3aWNiQzhBUGZCSGpPcWZldG1CVkQxUzRJcXlOdDVQTGd3dlIvWk15TUl0Ym5tUlhmNFVWZ1NtRjY4ZDBxL3VmdnErQnpDaURSRFY5N1ZCSUxRTUFsR2dJWDQxbUFGcHoya2ZOS2ExZmNLa1lzS1FadVRDT21UNHBsTU5jOFkyTm9zRTlwb0d4OTc5T2tVcmZjeFg4M1h3anRRbUx2bmtBUFZuL3FXS1NVN01pZG04dDkvNkdTNWlYRS9NclZ6akVMT3ZZZXBFK1dpRGR6V1Z2ZFlOYmlGamc3QzcwM1ZON3BUWXRkUDAzZzJ3ZTlyUUJsbjgrU1cyK1YrL0tnZTl0YU1tVTBOQlF4QlAzVEVwcHRGcEZ3RnhqaWEwY3I2YjF1WWdaWnJGNjgzZnhUTkRxYlJNQlJsVklIV1FrK3NRWXJYZmRIYVVkbnZUTTBhYmF2SVJ2aVVqOTRFa2FZeXpzcVJLMjMwU0ZlUlI2THdjK2ttSkMxRnNFbG9UVjBTZExDelpMN1NRYmhSZVNWUUFxSTBwdXFZT0w2VXArK1ZMK3kxdEtGSU54eEM2V0NYaW5OTWl3dGVwT1ZPZ3dTemU1VE5xOU5Tc0ZjPQ==\"\n",
    "\n",
    "# output file\n",
    "# output_file_name = \"data-10-year.csv\" \n",
    "output_file_name = \"data-1-year.csv\" \n",
    "\n",
    "columns = [\"lon\", \"lat\", \"g\", \"s\", \"b\", \"pu\", \"f\", \"v\", \"el\", \"m\", \"l\", \"e\", \"tp\"]\n",
    "new_columns = {\n",
    "    \"lon\": \"Longitude\",\n",
    "    \"lat\": \"Latitude\",\n",
    "    \"g\": \"House-Age\",\n",
    "    \"s\": \"Area\",\n",
    "    \"b\": \"Property-Type\",\n",
    "    \"pu\": \"Purpose\",\n",
    "    \"f\": \"Floor\",\n",
    "    \"v\": \"Layout\",\n",
    "    \"el\": \"Elevator\",\n",
    "    \"m\": \"Janitor\",\n",
    "    \"l\": \"Parking-Space\",\n",
    "    \"e\": \"Closing-Date\",\n",
    "    \"tp\": \"Price\",\n",
    "}\n",
    "\n",
    "print(\"begin\")\n",
    "df = pd.DataFrame()\n",
    "\n",
    "res = requests.get(url)\n",
    "data = res.json()\n",
    "df = pd.DataFrame(data)\n",
    "\n",
    "df = df[columns]\n",
    "df = df.replace(\"\", np.nan)\n",
    "df = df.dropna()\n",
    "df = df.rename(columns=new_columns)\n",
    "df.to_csv(output_file_name, index=False, encoding=\"utf_8_sig\")\n",
    "print(\"finish\")\n"
   ]
  },
  {
   "cell_type": "markdown",
   "metadata": {},
   "source": [
    "### Split Layout"
   ]
  },
  {
   "cell_type": "code",
   "execution_count": 182,
   "metadata": {},
   "outputs": [],
   "source": [
    "df = pd.read_csv(output_file_name)\n",
    "df[['Bedroom', 'Living Room', 'Bathroom']] = df['Layout'].str.extract('(\\d+)房(\\d+)廳(\\d+)衛')\n",
    "df[['Bedroom', 'Living Room', 'Bathroom']] = df[['Bedroom', 'Living Room', 'Bathroom']].fillna(0).astype(int)\n",
    "df = df.drop(columns=['Layout'])\n",
    "df.to_csv(\"split.csv\", index=False, encoding=\"utf_8_sig\")"
   ]
  },
  {
   "cell_type": "markdown",
   "metadata": {},
   "source": [
    "### Encode"
   ]
  },
  {
   "cell_type": "code",
   "execution_count": 183,
   "metadata": {},
   "outputs": [],
   "source": [
    "# 有、無 轉 1、0\n",
    "columns_to_encode = [\"Elevator\", \"Janitor\"]\n",
    "\n",
    "binary_mapping = {\"有\": 1, \"無\": 0}\n",
    "df[\"Elevator\"] = df[\"Elevator\"].map(binary_mapping)\n",
    "df[\"Janitor\"] = df[\"Janitor\"].map(binary_mapping)\n"
   ]
  },
  {
   "cell_type": "code",
   "execution_count": 184,
   "metadata": {},
   "outputs": [],
   "source": [
    "# 1 hot encoding\n",
    "property_type_mapping = {\n",
    "    '住宅大樓(11層含以上有電梯)': 'Residential-Building',\n",
    "    '公寓(5樓含以下無電梯)': 'Apartment',\n",
    "    '華廈(10層含以下有電梯)': 'Mansion',\n",
    "    '透天厝': 'Detached-House'\n",
    "}\n",
    "purpose_mapping = {\n",
    "    '住商用':'LiveAndWork',\n",
    "    '住家用':'Residential',\n",
    "    '住工用':'LiveAndWork',\n",
    "    '其他':'Other',\n",
    "    '商業用':'Commercial',\n",
    "    '商辦用':'Office',\n",
    "    '工業用':'Industrial',\n",
    "    '辦公用':'Office',\n",
    "    '農業用':'Agricultural',\n",
    "}\n",
    "\n",
    "df['Property-Type'] = df['Property-Type'].map(property_type_mapping)\n",
    "df['Purpose'] = df['Purpose'].map(purpose_mapping)\n",
    "df = pd.get_dummies(df, columns=['Property-Type', 'Purpose'])\n",
    "\n",
    "df.to_csv(\"encode.csv\", index=False, encoding=\"utf_8_sig\")\n"
   ]
  },
  {
   "cell_type": "code",
   "execution_count": 185,
   "metadata": {},
   "outputs": [],
   "source": [
    "# 把 price 放到最後面\n",
    "df = df[[col for col in df.columns if col != 'Price'] + ['Price']]\n",
    "# tmp final\n"
   ]
  },
  {
   "cell_type": "code",
   "execution_count": 186,
   "metadata": {},
   "outputs": [],
   "source": [
    "#TODO\n",
    "# Floor(split and chinese to int), Closing-Date(idk if we need it), price(string to int)\n",
    "\n",
    "# Price string to int\n",
    "df['Price'] = df['Price'].replace(',','', regex=True).map(int)\n",
    "\n",
    "# Split Floor to sale_floor and total_floor\n",
    "df[['sale_floor', 'total_floor']] = df['Floor'].str.split('/', expand=True)\n",
    "\n",
    "# Drop Floor column and move sale_floor and total_floor forward\n",
    "df = df.drop(['Floor'], axis=1)\n",
    "column_to_move = df.pop('sale_floor')\n",
    "df.insert(4, 'sale_floor', column_to_move)\n",
    "column_to_move = df.pop('total_floor')\n",
    "df.insert(5, 'total_floor', column_to_move)\n",
    "\n",
    "# Convert Chinese to Arabic number in total_floor column\n",
    "df['total_floor'] = df['total_floor'].replace('層','', regex=True)\n",
    "df = df.drop(df[df['total_floor'] == '--'].index)    # Remove the row if the total_floor value is '--'\n",
    "for i in df['total_floor'].items():\n",
    "    # print(i)\n",
    "    i = cn2an.cn2an(i[1])\n",
    "    \n",
    "df.to_csv(\"final.csv\", index=False, encoding=\"utf_8_sig\")"
   ]
  }
 ],
 "metadata": {
  "kernelspec": {
   "display_name": "Python 3",
   "language": "python",
   "name": "python3"
  },
  "language_info": {
   "codemirror_mode": {
    "name": "ipython",
    "version": 3
   },
   "file_extension": ".py",
   "mimetype": "text/x-python",
   "name": "python",
   "nbconvert_exporter": "python",
   "pygments_lexer": "ipython3",
   "version": "3.11.1"
  }
 },
 "nbformat": 4,
 "nbformat_minor": 2
}
