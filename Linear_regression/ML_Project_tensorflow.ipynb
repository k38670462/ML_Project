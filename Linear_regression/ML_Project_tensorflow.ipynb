{
  "nbformat": 4,
  "nbformat_minor": 0,
  "metadata": {
    "colab": {
      "provenance": []
    },
    "kernelspec": {
      "name": "python3",
      "display_name": "Python 3"
    },
    "language_info": {
      "name": "python"
    }
  },
  "cells": [
    {
      "cell_type": "code",
      "execution_count": 29,
      "metadata": {
        "colab": {
          "base_uri": "https://localhost:8080/",
          "height": 669
        },
        "id": "R3PTFvfpmCNj",
        "outputId": "e57a929d-cfa5-4712-a1a4-c6aeece3c42f"
      },
      "outputs": [
        {
          "output_type": "stream",
          "name": "stdout",
          "text": [
            "Trained Weights: [ 5.6394941e+04  1.1641829e+04  3.0279477e+04 -5.2361951e+02\n",
            " -3.4944351e+03  1.0379465e+03  3.5539006e+03  5.0682949e+04\n",
            "  1.2604646e+04  4.4838174e+03  9.4012920e+03  5.8422017e+03\n",
            "  5.5842871e+03 -1.3609401e+03 -2.3280642e+03 -1.4297280e+03\n",
            " -1.3610092e+03  5.0958853e+00  4.4863394e+03 -1.3606464e+03\n",
            " -1.3604689e+03 -1.3610802e+03 -1.7907843e+03 -2.2994326e+04]\n",
            "Trained Bias: [465.99835]\n"
          ]
        },
        {
          "output_type": "display_data",
          "data": {
            "text/plain": [
              "<Figure size 640x480 with 1 Axes>"
            ],
            "image/png": "[encoded data removed]"
          },
          "metadata": {}
        },
        {
          "output_type": "stream",
          "name": "stdout",
          "text": [
            "12/12 [==============================] - 0s 2ms/step\n",
            "pred:  [112.34543587]\n"
          ]
        },
        {
          "output_type": "execute_result",
          "data": {
            "text/plain": [
              "'\\nwith open(coefficient_output_dataroot, \\'w\\', newline=\\'\\', encoding=\"utf-8\") as csvfile:\\n  writer = csv.writer(csvfile)\\n  for row in coefficient_output:\\n    writer.writerow(row)\\n'"
            ],
            "application/vnd.google.colaboratory.intrinsic+json": {
              "type": "string"
            }
          },
          "metadata": {},
          "execution_count": 29
        }
      ],
      "source": [
        "# -*- coding: utf-8 -*-\n",
        "\n",
        "\n",
        "import numpy as np\n",
        "import matplotlib.pyplot as plt\n",
        "import pandas as pd\n",
        "import csv\n",
        "import math\n",
        "import random\n",
        "import tensorflow as tf\n",
        "\n",
        "\n",
        "np.random.seed(22)\n",
        "tf.random.set_seed(22)\n",
        "\n",
        "training_datalist =  []\n",
        "testing_datalist =  []\n",
        "output_datalist =  []\n",
        "training_dataset = []\n",
        "validation_dataset = []\n",
        "y = []\n",
        "y_val = []\n",
        "coefficient_output = []\n",
        "\n",
        "\n",
        "\n",
        "training_dataroot = 'data-1-year.csv'\n",
        "coefficient_output_dataroot = 'model_coefficient.csv'\n",
        "\n",
        "\"\"\"\n",
        "data = pd.read_csv(training_dataroot)\n",
        "#print(data)\n",
        "\n",
        "features = data.iloc[:, 0]\n",
        "max_features, min_features = max(features), min(features)\n",
        "print(features)\n",
        "\n",
        "features = (features-min_features)/(max_features-min_features)\n",
        "\n",
        "labels = data.iloc[:, 1]\n",
        "print(labels)\n",
        "max_labels, min_labels = max(labels), min(labels)\n",
        "labels = (labels-min_labels)/(max_labels-min_labels)\n",
        "\"\"\"\n",
        "\n",
        "with open(training_dataroot, newline='') as csvfile:\n",
        "  training_datalist = np.array(list(csv.reader(csvfile)))\n",
        "\n",
        "\n",
        "\n",
        "\n",
        "def SplitData():\n",
        "    global training_dataset, y, training_datalist\n",
        "    no = {'latitude', 'longitude', 'closing_year'}\n",
        "    y = np.array([[float(training_datalist[i][-1])] for i in range(1, len(training_datalist))])\n",
        "    for i in range(1, len(training_datalist)):\n",
        "        p = []\n",
        "        for j in range(len(training_datalist[i])-1):\n",
        "            if training_datalist[i][0] in no:\n",
        "                pass\n",
        "            elif training_datalist[i][j] == 'False' or training_datalist[i][j] == 'True' :\n",
        "                p.append(1. if training_datalist[i][j] == 'True' else 0.)\n",
        "            else:\n",
        "                p.append(float(training_datalist[i][j].replace(',','')))\n",
        "        training_dataset.append(p)\n",
        "    training_dataset = np.array(training_dataset)\n",
        "\n",
        "def train_val_split(X, y, val_size, random_state):\n",
        "    np.random.seed(random_state)\n",
        "    np.random.shuffle(X)\n",
        "    np.random.shuffle(y)\n",
        "\n",
        "    X_train = X[: int(len(X) - val_size)]\n",
        "    X_val = X[-int(val_size) :]\n",
        "\n",
        "    y_train = y[: int(len(y) - val_size)]\n",
        "    y_val = y[-int(val_size) :]\n",
        "    return X_train, X_val, y_train, y_val\n",
        "\n",
        "\n",
        "#trained_weights, trained_bias = 0, 0\n",
        "\n",
        "\n",
        "def Training():\n",
        "    global training_dataset, validation_dataset, y, y_val\n",
        "    model = tf.keras.Sequential([\n",
        "    tf.keras.layers.Input(shape=len(training_dataset[0],)),\n",
        "    tf.keras.layers.Dense(1)\n",
        "    ])\n",
        "\n",
        "    model.compile(tf.keras.optimizers.SGD(learning_rate=0.000001), loss='mse')\n",
        "    history = model.fit(training_dataset, y, epochs=100, verbose=0)\n",
        "\n",
        "    trained_weights, trained_bias= model.layers[0].get_weights()\n",
        "\n",
        "    print(\"Trained Weights:\", trained_weights.flatten())\n",
        "    print(\"Trained Bias:\", trained_bias)\n",
        "\n",
        "    plt.plot(history.history['loss'])\n",
        "    plt.title('Model Loss')\n",
        "    plt.xlabel('Epoch')\n",
        "    plt.ylabel('Loss')\n",
        "    plt.show()\n",
        "\n",
        "\n",
        "    pred = model.predict(validation_dataset)\n",
        "    print(f'pred: ', sum(map(lambda x, z: abs((z-x)/z), pred, y_val))/len(y_val)*100)\n",
        "\n",
        "\n",
        "if __name__ == '__main__':\n",
        "    SplitData()\n",
        "    training_dataset, validation_dataset, y, y_val = train_val_split(training_dataset, y, 0.1 * len(y), 22)\n",
        "    Training()\n",
        "\n",
        "\n",
        "\n",
        "\n",
        "\n",
        "\n",
        "\n",
        "\"\"\"\n",
        "with open(coefficient_output_dataroot, 'w', newline='', encoding=\"utf-8\") as csvfile:\n",
        "  writer = csv.writer(csvfile)\n",
        "  for row in coefficient_output:\n",
        "    writer.writerow(row)\n",
        "\"\"\"\n"
      ]
    }
  ]
}