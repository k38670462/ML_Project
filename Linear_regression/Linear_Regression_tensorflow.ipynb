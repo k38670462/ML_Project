{
  "nbformat": 4,
  "nbformat_minor": 0,
  "metadata": {
    "colab": {
      "provenance": []
    },
    "kernelspec": {
      "name": "python3",
      "display_name": "Python 3"
    },
    "language_info": {
      "name": "python"
    }
  },
  "cells": [
    {
      "cell_type": "code",
      "execution_count": 2,
      "metadata": {
        "colab": {
          "base_uri": "https://localhost:8080/",
          "height": 669
        },
        "id": "R3PTFvfpmCNj",
        "outputId": "cc9a644d-c68d-41c0-e980-8907979f3f2e"
      },
      "outputs": [
        {
          "output_type": "stream",
          "name": "stdout",
          "text": [
            "Trained Weights: [ 3.0948840e+03  2.4035740e+03 -8.5263168e+01  1.1247911e+03\n",
            "  1.3506987e+04  4.0039956e+03  5.6758685e+02  8.7493242e+04\n",
            "  4.6503366e+02  6.1661700e+02  3.0364544e+01  4.1341240e+03\n",
            " -1.3609993e+03 -1.3396266e+03 -1.3806591e+03  5.5952534e+03\n",
            " -1.3436373e+03 -1.1749949e+03 -2.5663461e+02 -1.3431093e+03\n",
            " -1.3430463e+03 -1.3434486e+03  3.2842892e+02  4.7126855e+03]\n",
            "Trained Bias: [2731.1948]\n"
          ]
        },
        {
          "output_type": "display_data",
          "data": {
            "text/plain": [
              "<Figure size 640x480 with 1 Axes>"
            ],
            "image/png": "[encoded data removed]"
          },
          "metadata": {}
        },
        {
          "output_type": "stream",
          "name": "stdout",
          "text": [
            "188/188 [==============================] - 0s 882us/step\n",
            "pred:  [84.7981063]\n"
          ]
        },
        {
          "output_type": "execute_result",
          "data": {
            "text/plain": [
              "'\\nwith open(coefficient_output_dataroot, \\'w\\', newline=\\'\\', encoding=\"utf-8\") as csvfile:\\n  writer = csv.writer(csvfile)\\n  for row in coefficient_output:\\n    writer.writerow(row)\\n'"
            ],
            "application/vnd.google.colaboratory.intrinsic+json": {
              "type": "string"
            }
          },
          "metadata": {},
          "execution_count": 2
        }
      ],
      "source": [
        "# -*- coding: utf-8 -*-\n",
        "\n",
        "\n",
        "import numpy as np\n",
        "import matplotlib.pyplot as plt\n",
        "import pandas as pd\n",
        "import csv\n",
        "import math\n",
        "import random\n",
        "import tensorflow as tf\n",
        "\n",
        "\n",
        "np.random.seed(22)\n",
        "tf.random.set_seed(22)\n",
        "\n",
        "training_datalist =  []\n",
        "testing_datalist =  []\n",
        "output_datalist =  []\n",
        "training_dataset = []\n",
        "validation_dataset = []\n",
        "y = []\n",
        "y_val = []\n",
        "coefficient_output = []\n",
        "\n",
        "\n",
        "\n",
        "training_dataroot = 'data-10-year-normalized.csv'\n",
        "# coefficient_output_dataroot = 'model_coefficient.csv'\n",
        "\n",
        "with open(training_dataroot, newline='') as csvfile:\n",
        "  training_datalist = np.array(list(csv.reader(csvfile)))\n",
        "\n",
        "\n",
        "def SplitData():\n",
        "    global training_dataset, y, training_datalist\n",
        "    no = {'latitude', 'longitude', 'closing_year'}\n",
        "    y = np.array([[float(training_datalist[i][-1])] for i in range(1, len(training_datalist))])\n",
        "    for i in range(1, len(training_datalist)):\n",
        "        p = []\n",
        "        for j in range(len(training_datalist[i])-1):\n",
        "            if training_datalist[i][0] in no:\n",
        "                pass\n",
        "            elif training_datalist[i][j] == 'False' or training_datalist[i][j] == 'True' :\n",
        "                p.append(1. if training_datalist[i][j] == 'True' else 0.)\n",
        "            else:\n",
        "                p.append(float(training_datalist[i][j].replace(',','')))\n",
        "        training_dataset.append(p)\n",
        "    training_dataset = np.array(training_dataset)\n",
        "\n",
        "def train_val_split(X, y, val_size, random_state):\n",
        "    np.random.seed(random_state)\n",
        "    np.random.shuffle(X)\n",
        "    np.random.shuffle(y)\n",
        "\n",
        "    X_train = X[: int(len(X) - val_size)]\n",
        "    X_val = X[-int(val_size) :]\n",
        "\n",
        "    y_train = y[: int(len(y) - val_size)]\n",
        "    y_val = y[-int(val_size) :]\n",
        "    return X_train, X_val, y_train, y_val\n",
        "\n",
        "\n",
        "def Training():\n",
        "    global training_dataset, validation_dataset, y, y_val\n",
        "    model = tf.keras.Sequential([\n",
        "        tf.keras.layers.Input(shape=len(training_dataset[0],)),\n",
        "        tf.keras.layers.Dense(1)\n",
        "    ])\n",
        "\n",
        "    model.compile(tf.keras.optimizers.SGD(learning_rate=0.000001), loss='mse')\n",
        "    history = model.fit(training_dataset, y, epochs=100, verbose=0)\n",
        "\n",
        "    trained_weights, trained_bias= model.layers[0].get_weights()\n",
        "\n",
        "    print(\"Trained Weights:\", trained_weights.flatten())\n",
        "    print(\"Trained Bias:\", trained_bias)\n",
        "\n",
        "    plt.plot(history.history['loss'])\n",
        "    plt.title('Model Loss')\n",
        "    plt.xlabel('Epoch')\n",
        "    plt.ylabel('Loss')\n",
        "    plt.show()\n",
        "\n",
        "\n",
        "    pred = model.predict(validation_dataset)\n",
        "    print(f'pred: ', sum(map(lambda x, z: abs((z-x)/z), pred, y_val))/len(y_val)*100)\n",
        "\n",
        "\n",
        "if __name__ == '__main__':\n",
        "    SplitData()\n",
        "    training_dataset, validation_dataset, y, y_val = train_val_split(training_dataset, y, 0.1 * len(y), 22)\n",
        "    Training()\n",
        "\n",
        "\n",
        "\n",
        "\"\"\"\n",
        "with open(coefficient_output_dataroot, 'w', newline='', encoding=\"utf-8\") as csvfile:\n",
        "  writer = csv.writer(csvfile)\n",
        "  for row in coefficient_output:\n",
        "    writer.writerow(row)\n",
        "\"\"\"\n"
      ]
    }
  ]
}